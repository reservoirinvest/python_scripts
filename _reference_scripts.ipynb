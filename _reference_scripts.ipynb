{
 "cells": [
  {
   "cell_type": "markdown",
   "metadata": {},
   "source": [
    "# User integration with Jupyter\n",
    "Ref: [StackOverflow: 31610889](https://stackoverflow.com/questions/31610889/how-to-copy-paste-dataframe-from-stackoverflow-into-python)"
   ]
  },
  {
   "cell_type": "markdown",
   "metadata": {},
   "source": [
    "## Make a Jupyter output data into a python dataframe"
   ]
  },
  {
   "cell_type": "code",
   "execution_count": 2,
   "metadata": {},
   "outputs": [
    {
     "data": {
      "text/html": [
       "<div>\n",
       "<style scoped>\n",
       "    .dataframe tbody tr th:only-of-type {\n",
       "        vertical-align: middle;\n",
       "    }\n",
       "\n",
       "    .dataframe tbody tr th {\n",
       "        vertical-align: top;\n",
       "    }\n",
       "\n",
       "    .dataframe thead th {\n",
       "        text-align: right;\n",
       "    }\n",
       "</style>\n",
       "<table border=\"1\" class=\"dataframe\">\n",
       "  <thead>\n",
       "    <tr style=\"text-align: right;\">\n",
       "      <th></th>\n",
       "      <th>Date</th>\n",
       "      <th>Type</th>\n",
       "      <th>Qty</th>\n",
       "      <th>Scoop</th>\n",
       "      <th>Flavour</th>\n",
       "    </tr>\n",
       "  </thead>\n",
       "  <tbody>\n",
       "    <tr>\n",
       "      <th>0</th>\n",
       "      <td>6-Oct-17</td>\n",
       "      <td>A</td>\n",
       "      <td>20.0</td>\n",
       "      <td>Flavour1</td>\n",
       "      <td>Strawberry</td>\n",
       "    </tr>\n",
       "    <tr>\n",
       "      <th>1</th>\n",
       "      <td>10-Oct-17</td>\n",
       "      <td>B</td>\n",
       "      <td>9.9</td>\n",
       "      <td>Flavour1</td>\n",
       "      <td>Vanilla</td>\n",
       "    </tr>\n",
       "    <tr>\n",
       "      <th>2</th>\n",
       "      <td>10-Oct-17</td>\n",
       "      <td>B</td>\n",
       "      <td>9.9</td>\n",
       "      <td>Flavour2</td>\n",
       "      <td>Lemon</td>\n",
       "    </tr>\n",
       "  </tbody>\n",
       "</table>\n",
       "</div>"
      ],
      "text/plain": [
       "        Date Type   Qty     Scoop     Flavour\n",
       "0   6-Oct-17    A  20.0  Flavour1  Strawberry\n",
       "1  10-Oct-17    B   9.9  Flavour1     Vanilla\n",
       "2  10-Oct-17    B   9.9  Flavour2       Lemon"
      ]
     },
     "execution_count": 2,
     "metadata": {},
     "output_type": "execute_result"
    }
   ],
   "source": [
    "# Ctrl+C the table output (say 0-3 records of the table above)\n",
    "# Run this...\n",
    "import pandas as pd\n",
    "\n",
    "df_from_pd = pd.read_clipboard()\n",
    "df_from_pd"
   ]
  },
  {
   "cell_type": "markdown",
   "metadata": {},
   "source": [
    "## Convert Table from Excel via clipboard into a python dictionary array"
   ]
  },
  {
   "cell_type": "code",
   "execution_count": 3,
   "metadata": {},
   "outputs": [
    {
     "data": {
      "text/plain": [
       "[{'List Date': 20180524,\n",
       "  'Name': 'S&P 100 Index (American style)',\n",
       "  'Product Type': 'Index, pm-settled, cash'},\n",
       " {'List Date': 20180524,\n",
       "  'Name': 'S&P 100 Index (European style)',\n",
       "  'Product Type': 'Index, pm-settled, cash'}]"
      ]
     },
     "execution_count": 3,
     "metadata": {},
     "output_type": "execute_result"
    }
   ],
   "source": [
    "# Copy the data of interest - with headers - into clipboard with Ctrl+C\n",
    "# Run this...\n",
    "import pandas as pd\n",
    "\n",
    "## Copy the Excel table to the clipboard first.\n",
    "the_dict = pd.read_clipboard().to_dict('records')\n",
    "the_dict"
   ]
  },
  {
   "cell_type": "code",
   "execution_count": 4,
   "metadata": {},
   "outputs": [
    {
     "data": {
      "text/html": [
       "<div>\n",
       "<style scoped>\n",
       "    .dataframe tbody tr th:only-of-type {\n",
       "        vertical-align: middle;\n",
       "    }\n",
       "\n",
       "    .dataframe tbody tr th {\n",
       "        vertical-align: top;\n",
       "    }\n",
       "\n",
       "    .dataframe thead th {\n",
       "        text-align: right;\n",
       "    }\n",
       "</style>\n",
       "<table border=\"1\" class=\"dataframe\">\n",
       "  <thead>\n",
       "    <tr style=\"text-align: right;\">\n",
       "      <th></th>\n",
       "      <th>Name</th>\n",
       "      <th>Product Type</th>\n",
       "      <th>List Date</th>\n",
       "    </tr>\n",
       "  </thead>\n",
       "  <tbody>\n",
       "    <tr>\n",
       "      <th>0</th>\n",
       "      <td>S&amp;P 100 Index (American style)</td>\n",
       "      <td>Index, pm-settled, cash</td>\n",
       "      <td>20180524</td>\n",
       "    </tr>\n",
       "    <tr>\n",
       "      <th>1</th>\n",
       "      <td>S&amp;P 100 Index (European style)</td>\n",
       "      <td>Index, pm-settled, cash</td>\n",
       "      <td>20180524</td>\n",
       "    </tr>\n",
       "  </tbody>\n",
       "</table>\n",
       "</div>"
      ],
      "text/plain": [
       "                             Name             Product Type  List Date\n",
       "0  S&P 100 Index (American style)  Index, pm-settled, cash   20180524\n",
       "1  S&P 100 Index (European style)  Index, pm-settled, cash   20180524"
      ]
     },
     "execution_count": 4,
     "metadata": {},
     "output_type": "execute_result"
    }
   ],
   "source": [
    "# The clipboard from Excel has the following:\n",
    "pd.read_clipboard()"
   ]
  },
  {
   "cell_type": "markdown",
   "metadata": {},
   "source": [
    "# Filtering rows based on conditions from other columns\n",
    "**Ref**: Data School Videos:\n",
    "1. [How do I filter rows of a pandas DataFrame by column value?](https://www.youtube.com/watch?v=2AFGPdNn4FM)\n",
    "2. [How do I apply multiple filter criteria to a pandas DataFrame?](https://www.youtube.com/watch?v=YPItfQ87qjM&t=5s)\n",
    "3. [loc / iloc How do I select multiple rows and columns from a pandas DataFrame?](https://www.youtube.com/watch?v=xvpNA7bC8cs&t=488s)\n"
   ]
  },
  {
   "cell_type": "code",
   "execution_count": 1,
   "metadata": {},
   "outputs": [
    {
     "data": {
      "text/html": [
       "<div>\n",
       "<style>\n",
       "    .dataframe thead tr:only-child th {\n",
       "        text-align: right;\n",
       "    }\n",
       "\n",
       "    .dataframe thead th {\n",
       "        text-align: left;\n",
       "    }\n",
       "\n",
       "    .dataframe tbody tr th {\n",
       "        vertical-align: top;\n",
       "    }\n",
       "</style>\n",
       "<table border=\"1\" class=\"dataframe\">\n",
       "  <thead>\n",
       "    <tr style=\"text-align: right;\">\n",
       "      <th></th>\n",
       "      <th>country</th>\n",
       "      <th>beer_servings</th>\n",
       "      <th>spirit_servings</th>\n",
       "      <th>wine_servings</th>\n",
       "      <th>total_litres_of_pure_alcohol</th>\n",
       "      <th>continent</th>\n",
       "    </tr>\n",
       "  </thead>\n",
       "  <tbody>\n",
       "    <tr>\n",
       "      <th>4</th>\n",
       "      <td>Angola</td>\n",
       "      <td>217</td>\n",
       "      <td>57</td>\n",
       "      <td>45</td>\n",
       "      <td>5.9</td>\n",
       "      <td>Africa</td>\n",
       "    </tr>\n",
       "    <tr>\n",
       "      <th>22</th>\n",
       "      <td>Botswana</td>\n",
       "      <td>173</td>\n",
       "      <td>35</td>\n",
       "      <td>35</td>\n",
       "      <td>5.4</td>\n",
       "      <td>Africa</td>\n",
       "    </tr>\n",
       "    <tr>\n",
       "      <th>29</th>\n",
       "      <td>Cabo Verde</td>\n",
       "      <td>144</td>\n",
       "      <td>56</td>\n",
       "      <td>16</td>\n",
       "      <td>4.0</td>\n",
       "      <td>Africa</td>\n",
       "    </tr>\n",
       "    <tr>\n",
       "      <th>31</th>\n",
       "      <td>Cameroon</td>\n",
       "      <td>147</td>\n",
       "      <td>1</td>\n",
       "      <td>4</td>\n",
       "      <td>5.8</td>\n",
       "      <td>Africa</td>\n",
       "    </tr>\n",
       "    <tr>\n",
       "      <th>62</th>\n",
       "      <td>Gabon</td>\n",
       "      <td>347</td>\n",
       "      <td>98</td>\n",
       "      <td>59</td>\n",
       "      <td>8.9</td>\n",
       "      <td>Africa</td>\n",
       "    </tr>\n",
       "    <tr>\n",
       "      <th>87</th>\n",
       "      <td>Kazakhstan</td>\n",
       "      <td>124</td>\n",
       "      <td>246</td>\n",
       "      <td>12</td>\n",
       "      <td>6.8</td>\n",
       "      <td>Asia</td>\n",
       "    </tr>\n",
       "    <tr>\n",
       "      <th>117</th>\n",
       "      <td>Namibia</td>\n",
       "      <td>376</td>\n",
       "      <td>3</td>\n",
       "      <td>1</td>\n",
       "      <td>6.8</td>\n",
       "      <td>Africa</td>\n",
       "    </tr>\n",
       "    <tr>\n",
       "      <th>138</th>\n",
       "      <td>South Korea</td>\n",
       "      <td>140</td>\n",
       "      <td>16</td>\n",
       "      <td>9</td>\n",
       "      <td>9.8</td>\n",
       "      <td>Asia</td>\n",
       "    </tr>\n",
       "    <tr>\n",
       "      <th>141</th>\n",
       "      <td>Russian Federation</td>\n",
       "      <td>247</td>\n",
       "      <td>326</td>\n",
       "      <td>73</td>\n",
       "      <td>11.5</td>\n",
       "      <td>Asia</td>\n",
       "    </tr>\n",
       "    <tr>\n",
       "      <th>152</th>\n",
       "      <td>Seychelles</td>\n",
       "      <td>157</td>\n",
       "      <td>25</td>\n",
       "      <td>51</td>\n",
       "      <td>4.1</td>\n",
       "      <td>Africa</td>\n",
       "    </tr>\n",
       "    <tr>\n",
       "      <th>159</th>\n",
       "      <td>South Africa</td>\n",
       "      <td>225</td>\n",
       "      <td>76</td>\n",
       "      <td>81</td>\n",
       "      <td>8.2</td>\n",
       "      <td>Africa</td>\n",
       "    </tr>\n",
       "  </tbody>\n",
       "</table>\n",
       "</div>"
      ],
      "text/plain": [
       "                country  beer_servings  spirit_servings  wine_servings  \\\n",
       "4                Angola            217               57             45   \n",
       "22             Botswana            173               35             35   \n",
       "29           Cabo Verde            144               56             16   \n",
       "31             Cameroon            147                1              4   \n",
       "62                Gabon            347               98             59   \n",
       "87           Kazakhstan            124              246             12   \n",
       "117             Namibia            376                3              1   \n",
       "138         South Korea            140               16              9   \n",
       "141  Russian Federation            247              326             73   \n",
       "152          Seychelles            157               25             51   \n",
       "159        South Africa            225               76             81   \n",
       "\n",
       "     total_litres_of_pure_alcohol continent  \n",
       "4                             5.9    Africa  \n",
       "22                            5.4    Africa  \n",
       "29                            4.0    Africa  \n",
       "31                            5.8    Africa  \n",
       "62                            8.9    Africa  \n",
       "87                            6.8      Asia  \n",
       "117                           6.8    Africa  \n",
       "138                           9.8      Asia  \n",
       "141                          11.5      Asia  \n",
       "152                           4.1    Africa  \n",
       "159                           8.2    Africa  "
      ]
     },
     "execution_count": 1,
     "metadata": {},
     "output_type": "execute_result"
    }
   ],
   "source": [
    "import pandas as pd\n",
    "drinks = pd.read_csv('http://bit.ly/drinksbycountry')\n",
    "\n",
    "# Single column condition\n",
    "drinks[drinks[\"continent\"] == 'Asia']\n",
    "\n",
    "# Multiple conditions from a single column\n",
    "drinks[drinks.continent.isin(['Asia', 'Africa'])]   #!!! BE MINDFUL OF TEXT WITH SPACES.\n",
    "\n",
    "### Criteria from multiple columns\n",
    "# Single conditions per column\n",
    "drinks[(drinks[\"continent\"] == 'Asia') & (drinks[\"beer_servings\"] > 100)]\n",
    "\n",
    "# Mix of single and multiple conditions per column\n",
    "# Beer servings > 100 in Asia or Africa, but not in Vietnam\n",
    "drinks[drinks.continent.isin(['Asia', 'Africa']) & (drinks.beer_servings > 100) & ~(drinks.country == 'Vietnam')]"
   ]
  },
  {
   "cell_type": "code",
   "execution_count": 2,
   "metadata": {},
   "outputs": [
    {
     "data": {
      "text/html": [
       "<div>\n",
       "<style>\n",
       "    .dataframe thead tr:only-child th {\n",
       "        text-align: right;\n",
       "    }\n",
       "\n",
       "    .dataframe thead th {\n",
       "        text-align: left;\n",
       "    }\n",
       "\n",
       "    .dataframe tbody tr th {\n",
       "        vertical-align: top;\n",
       "    }\n",
       "</style>\n",
       "<table border=\"1\" class=\"dataframe\">\n",
       "  <thead>\n",
       "    <tr style=\"text-align: right;\">\n",
       "      <th></th>\n",
       "      <th>country</th>\n",
       "      <th>beer_servings</th>\n",
       "      <th>spirit_servings</th>\n",
       "      <th>wine_servings</th>\n",
       "      <th>total_litres_of_pure_alcohol</th>\n",
       "      <th>continent</th>\n",
       "    </tr>\n",
       "  </thead>\n",
       "  <tbody>\n",
       "    <tr>\n",
       "      <th>22</th>\n",
       "      <td>Botswana</td>\n",
       "      <td>173</td>\n",
       "      <td>35</td>\n",
       "      <td>35</td>\n",
       "      <td>5.4</td>\n",
       "      <td>Africa</td>\n",
       "    </tr>\n",
       "    <tr>\n",
       "      <th>87</th>\n",
       "      <td>Kazakhstan</td>\n",
       "      <td>124</td>\n",
       "      <td>246</td>\n",
       "      <td>12</td>\n",
       "      <td>6.8</td>\n",
       "      <td>Asia</td>\n",
       "    </tr>\n",
       "    <tr>\n",
       "      <th>138</th>\n",
       "      <td>South Korea</td>\n",
       "      <td>140</td>\n",
       "      <td>16</td>\n",
       "      <td>9</td>\n",
       "      <td>9.8</td>\n",
       "      <td>Asia</td>\n",
       "    </tr>\n",
       "    <tr>\n",
       "      <th>141</th>\n",
       "      <td>Russian Federation</td>\n",
       "      <td>247</td>\n",
       "      <td>326</td>\n",
       "      <td>73</td>\n",
       "      <td>11.5</td>\n",
       "      <td>Asia</td>\n",
       "    </tr>\n",
       "    <tr>\n",
       "      <th>152</th>\n",
       "      <td>Seychelles</td>\n",
       "      <td>157</td>\n",
       "      <td>25</td>\n",
       "      <td>51</td>\n",
       "      <td>4.1</td>\n",
       "      <td>Africa</td>\n",
       "    </tr>\n",
       "    <tr>\n",
       "      <th>159</th>\n",
       "      <td>South Africa</td>\n",
       "      <td>225</td>\n",
       "      <td>76</td>\n",
       "      <td>81</td>\n",
       "      <td>8.2</td>\n",
       "      <td>Africa</td>\n",
       "    </tr>\n",
       "  </tbody>\n",
       "</table>\n",
       "</div>"
      ],
      "text/plain": [
       "                country  beer_servings  spirit_servings  wine_servings  \\\n",
       "22             Botswana            173               35             35   \n",
       "87           Kazakhstan            124              246             12   \n",
       "138         South Korea            140               16              9   \n",
       "141  Russian Federation            247              326             73   \n",
       "152          Seychelles            157               25             51   \n",
       "159        South Africa            225               76             81   \n",
       "\n",
       "     total_litres_of_pure_alcohol continent  \n",
       "22                            5.4    Africa  \n",
       "87                            6.8      Asia  \n",
       "138                           9.8      Asia  \n",
       "141                          11.5      Asia  \n",
       "152                           4.1    Africa  \n",
       "159                           8.2    Africa  "
      ]
     },
     "execution_count": 2,
     "metadata": {},
     "output_type": "execute_result"
    }
   ],
   "source": [
    "# Multiple sub-string search\n",
    "# Countries in Asia and Africa having the letter 's' or 'w' in them with beer_servings > 100\n",
    "continent = ['Asia', 'Africa']\n",
    "searchfor = ['s', 'w']\n",
    "drinks[drinks.country.str.contains('|'.join(searchfor), case=False) & \n",
    "       drinks.continent.isin(continent) & \n",
    "       (drinks.beer_servings > 100)]"
   ]
  },
  {
   "cell_type": "markdown",
   "metadata": {},
   "source": [
    "# Merging 2D x 1D arrays of different length\n",
    "\n",
    "Ref: [Stackoverflow: 30598281](https://stackoverflow.com/questions/30597260/merging-a-dataframe-with-a-series/30598281)\n",
    "\n",
    "The task is to repeat rows in the 2D array for values in the 1D array"
   ]
  },
  {
   "cell_type": "code",
   "execution_count": 3,
   "metadata": {},
   "outputs": [
    {
     "data": {
      "text/html": [
       "<div>\n",
       "<style>\n",
       "    .dataframe thead tr:only-child th {\n",
       "        text-align: right;\n",
       "    }\n",
       "\n",
       "    .dataframe thead th {\n",
       "        text-align: left;\n",
       "    }\n",
       "\n",
       "    .dataframe tbody tr th {\n",
       "        vertical-align: top;\n",
       "    }\n",
       "</style>\n",
       "<table border=\"1\" class=\"dataframe\">\n",
       "  <thead>\n",
       "    <tr style=\"text-align: right;\">\n",
       "      <th></th>\n",
       "      <th>A</th>\n",
       "      <th>B</th>\n",
       "      <th>C</th>\n",
       "      <th>D</th>\n",
       "    </tr>\n",
       "  </thead>\n",
       "  <tbody>\n",
       "    <tr>\n",
       "      <th>0</th>\n",
       "      <td>1.349480</td>\n",
       "      <td>-1.264661</td>\n",
       "      <td>-0.019623</td>\n",
       "      <td>-1.464625</td>\n",
       "    </tr>\n",
       "    <tr>\n",
       "      <th>1</th>\n",
       "      <td>0.772565</td>\n",
       "      <td>0.269452</td>\n",
       "      <td>0.073671</td>\n",
       "      <td>-0.034632</td>\n",
       "    </tr>\n",
       "    <tr>\n",
       "      <th>2</th>\n",
       "      <td>0.036295</td>\n",
       "      <td>-0.138218</td>\n",
       "      <td>1.195414</td>\n",
       "      <td>-0.381390</td>\n",
       "    </tr>\n",
       "  </tbody>\n",
       "</table>\n",
       "</div>"
      ],
      "text/plain": [
       "          A         B         C         D\n",
       "0  1.349480 -1.264661 -0.019623 -1.464625\n",
       "1  0.772565  0.269452  0.073671 -0.034632\n",
       "2  0.036295 -0.138218  1.195414 -0.381390"
      ]
     },
     "execution_count": 3,
     "metadata": {},
     "output_type": "execute_result"
    }
   ],
   "source": [
    "## Merging a 2 dimensional master array with a one dimensional date series\n",
    "\n",
    "import pandas as pd\n",
    "import numpy as np\n",
    "from datetime import date\n",
    "\n",
    "# Create a 3 x 4 master dataframe\n",
    "df = pd.DataFrame(np.random.randn(3,4), columns = list('ABCD'))\n",
    "df"
   ]
  },
  {
   "cell_type": "code",
   "execution_count": 4,
   "metadata": {},
   "outputs": [
    {
     "data": {
      "text/html": [
       "<div>\n",
       "<style>\n",
       "    .dataframe thead tr:only-child th {\n",
       "        text-align: right;\n",
       "    }\n",
       "\n",
       "    .dataframe thead th {\n",
       "        text-align: left;\n",
       "    }\n",
       "\n",
       "    .dataframe tbody tr th {\n",
       "        vertical-align: top;\n",
       "    }\n",
       "</style>\n",
       "<table border=\"1\" class=\"dataframe\">\n",
       "  <thead>\n",
       "    <tr style=\"text-align: right;\">\n",
       "      <th></th>\n",
       "      <th>A</th>\n",
       "      <th>B</th>\n",
       "      <th>C</th>\n",
       "      <th>D</th>\n",
       "      <th>key</th>\n",
       "    </tr>\n",
       "  </thead>\n",
       "  <tbody>\n",
       "    <tr>\n",
       "      <th>0</th>\n",
       "      <td>1.349480</td>\n",
       "      <td>-1.264661</td>\n",
       "      <td>-0.019623</td>\n",
       "      <td>-1.464625</td>\n",
       "      <td>0</td>\n",
       "    </tr>\n",
       "    <tr>\n",
       "      <th>1</th>\n",
       "      <td>0.772565</td>\n",
       "      <td>0.269452</td>\n",
       "      <td>0.073671</td>\n",
       "      <td>-0.034632</td>\n",
       "      <td>0</td>\n",
       "    </tr>\n",
       "    <tr>\n",
       "      <th>2</th>\n",
       "      <td>0.036295</td>\n",
       "      <td>-0.138218</td>\n",
       "      <td>1.195414</td>\n",
       "      <td>-0.381390</td>\n",
       "      <td>0</td>\n",
       "    </tr>\n",
       "  </tbody>\n",
       "</table>\n",
       "</div>"
      ],
      "text/plain": [
       "          A         B         C         D  key\n",
       "0  1.349480 -1.264661 -0.019623 -1.464625    0\n",
       "1  0.772565  0.269452  0.073671 -0.034632    0\n",
       "2  0.036295 -0.138218  1.195414 -0.381390    0"
      ]
     },
     "execution_count": 4,
     "metadata": {},
     "output_type": "execute_result"
    }
   ],
   "source": [
    "# Insert a key into the master dataframe\n",
    "df['key'] = 0\n",
    "df"
   ]
  },
  {
   "cell_type": "code",
   "execution_count": 5,
   "metadata": {},
   "outputs": [
    {
     "data": {
      "text/plain": [
       "DatetimeIndex(['2018-03-22', '2018-03-23'], dtype='datetime64[ns]', freq='D')"
      ]
     },
     "execution_count": 5,
     "metadata": {},
     "output_type": "execute_result"
    }
   ],
   "source": [
    "# Create a 2 x 1 date series\n",
    "dates = pd.date_range(date.today(), periods=2)\n",
    "dates"
   ]
  },
  {
   "cell_type": "code",
   "execution_count": 6,
   "metadata": {},
   "outputs": [
    {
     "data": {
      "text/html": [
       "<div>\n",
       "<style>\n",
       "    .dataframe thead tr:only-child th {\n",
       "        text-align: right;\n",
       "    }\n",
       "\n",
       "    .dataframe thead th {\n",
       "        text-align: left;\n",
       "    }\n",
       "\n",
       "    .dataframe tbody tr th {\n",
       "        vertical-align: top;\n",
       "    }\n",
       "</style>\n",
       "<table border=\"1\" class=\"dataframe\">\n",
       "  <thead>\n",
       "    <tr style=\"text-align: right;\">\n",
       "      <th></th>\n",
       "      <th>By</th>\n",
       "      <th>key</th>\n",
       "    </tr>\n",
       "  </thead>\n",
       "  <tbody>\n",
       "    <tr>\n",
       "      <th>0</th>\n",
       "      <td>2018-03-22</td>\n",
       "      <td>0</td>\n",
       "    </tr>\n",
       "    <tr>\n",
       "      <th>1</th>\n",
       "      <td>2018-03-23</td>\n",
       "      <td>0</td>\n",
       "    </tr>\n",
       "  </tbody>\n",
       "</table>\n",
       "</div>"
      ],
      "text/plain": [
       "          By  key\n",
       "0 2018-03-22    0\n",
       "1 2018-03-23    0"
      ]
     },
     "execution_count": 6,
     "metadata": {},
     "output_type": "execute_result"
    }
   ],
   "source": [
    "# make the date series into a dataframe with the key \n",
    "ser = pd.DataFrame({'By': dates, 'key':[0] * len(dates)})\n",
    "ser"
   ]
  },
  {
   "cell_type": "code",
   "execution_count": 7,
   "metadata": {},
   "outputs": [
    {
     "data": {
      "text/html": [
       "<div>\n",
       "<style>\n",
       "    .dataframe thead tr:only-child th {\n",
       "        text-align: right;\n",
       "    }\n",
       "\n",
       "    .dataframe thead th {\n",
       "        text-align: left;\n",
       "    }\n",
       "\n",
       "    .dataframe tbody tr th {\n",
       "        vertical-align: top;\n",
       "    }\n",
       "</style>\n",
       "<table border=\"1\" class=\"dataframe\">\n",
       "  <thead>\n",
       "    <tr style=\"text-align: right;\">\n",
       "      <th></th>\n",
       "      <th>A</th>\n",
       "      <th>B</th>\n",
       "      <th>C</th>\n",
       "      <th>D</th>\n",
       "      <th>By</th>\n",
       "    </tr>\n",
       "  </thead>\n",
       "  <tbody>\n",
       "    <tr>\n",
       "      <th>0</th>\n",
       "      <td>1.349480</td>\n",
       "      <td>-1.264661</td>\n",
       "      <td>-0.019623</td>\n",
       "      <td>-1.464625</td>\n",
       "      <td>2018-03-22</td>\n",
       "    </tr>\n",
       "    <tr>\n",
       "      <th>1</th>\n",
       "      <td>1.349480</td>\n",
       "      <td>-1.264661</td>\n",
       "      <td>-0.019623</td>\n",
       "      <td>-1.464625</td>\n",
       "      <td>2018-03-23</td>\n",
       "    </tr>\n",
       "    <tr>\n",
       "      <th>2</th>\n",
       "      <td>0.772565</td>\n",
       "      <td>0.269452</td>\n",
       "      <td>0.073671</td>\n",
       "      <td>-0.034632</td>\n",
       "      <td>2018-03-22</td>\n",
       "    </tr>\n",
       "    <tr>\n",
       "      <th>3</th>\n",
       "      <td>0.772565</td>\n",
       "      <td>0.269452</td>\n",
       "      <td>0.073671</td>\n",
       "      <td>-0.034632</td>\n",
       "      <td>2018-03-23</td>\n",
       "    </tr>\n",
       "    <tr>\n",
       "      <th>4</th>\n",
       "      <td>0.036295</td>\n",
       "      <td>-0.138218</td>\n",
       "      <td>1.195414</td>\n",
       "      <td>-0.381390</td>\n",
       "      <td>2018-03-22</td>\n",
       "    </tr>\n",
       "    <tr>\n",
       "      <th>5</th>\n",
       "      <td>0.036295</td>\n",
       "      <td>-0.138218</td>\n",
       "      <td>1.195414</td>\n",
       "      <td>-0.381390</td>\n",
       "      <td>2018-03-23</td>\n",
       "    </tr>\n",
       "  </tbody>\n",
       "</table>\n",
       "</div>"
      ],
      "text/plain": [
       "          A         B         C         D         By\n",
       "0  1.349480 -1.264661 -0.019623 -1.464625 2018-03-22\n",
       "1  1.349480 -1.264661 -0.019623 -1.464625 2018-03-23\n",
       "2  0.772565  0.269452  0.073671 -0.034632 2018-03-22\n",
       "3  0.772565  0.269452  0.073671 -0.034632 2018-03-23\n",
       "4  0.036295 -0.138218  1.195414 -0.381390 2018-03-22\n",
       "5  0.036295 -0.138218  1.195414 -0.381390 2018-03-23"
      ]
     },
     "execution_count": 7,
     "metadata": {},
     "output_type": "execute_result"
    }
   ],
   "source": [
    "# merge the master dataframe and the dataseries dataframe over the key and drop the key. \n",
    "result = pd.merge(df, ser, on = 'key').drop('key', axis = 1)\n",
    "result"
   ]
  },
  {
   "cell_type": "markdown",
   "metadata": {},
   "source": [
    "# Lookup if date is between two dates from another dataframe\n",
    "The following lookup code evaluates if dates are between two dates and extracts the associated text (Weeknumber)"
   ]
  },
  {
   "cell_type": "code",
   "execution_count": 8,
   "metadata": {
    "collapsed": true
   },
   "outputs": [],
   "source": [
    "import pandas as pd, numpy as np\n",
    "dates = pd.date_range('20180101', periods=21)\n",
    "week_start = pd.date_range('20180101', periods=3, freq='W-Mon')\n",
    "week_end = pd.date_range('20180101', periods=3, freq='W-Sun')\n",
    "week = pd.Series(['W1', 'W2', 'W3'])\n",
    "df1 = pd.DataFrame({'By': dates, \n",
    "                    'SerNo': np.random.randint(5, size=21)})\n",
    "df2 = pd.DataFrame({'Start': week_start,\n",
    "                    'End': week_end,\n",
    "                    'Week': week})"
   ]
  },
  {
   "cell_type": "code",
   "execution_count": 9,
   "metadata": {},
   "outputs": [
    {
     "data": {
      "text/plain": [
       "0    W1\n",
       "1    W2\n",
       "2    W3\n",
       "dtype: object"
      ]
     },
     "execution_count": 9,
     "metadata": {},
     "output_type": "execute_result"
    }
   ],
   "source": [
    "# Text of the week\n",
    "week"
   ]
  },
  {
   "cell_type": "code",
   "execution_count": 10,
   "metadata": {},
   "outputs": [
    {
     "data": {
      "text/plain": [
       "DatetimeIndex(['2018-01-07', '2018-01-14', '2018-01-21'], dtype='datetime64[ns]', freq='W-SUN')"
      ]
     },
     "execution_count": 10,
     "metadata": {},
     "output_type": "execute_result"
    }
   ],
   "source": [
    "# Weekends\n",
    "week_end"
   ]
  },
  {
   "cell_type": "code",
   "execution_count": 11,
   "metadata": {},
   "outputs": [
    {
     "data": {
      "text/html": [
       "<div>\n",
       "<style>\n",
       "    .dataframe thead tr:only-child th {\n",
       "        text-align: right;\n",
       "    }\n",
       "\n",
       "    .dataframe thead th {\n",
       "        text-align: left;\n",
       "    }\n",
       "\n",
       "    .dataframe tbody tr th {\n",
       "        vertical-align: top;\n",
       "    }\n",
       "</style>\n",
       "<table border=\"1\" class=\"dataframe\">\n",
       "  <thead>\n",
       "    <tr style=\"text-align: right;\">\n",
       "      <th></th>\n",
       "      <th>SerNo</th>\n",
       "      <th>By</th>\n",
       "    </tr>\n",
       "  </thead>\n",
       "  <tbody>\n",
       "    <tr>\n",
       "      <th>0</th>\n",
       "      <td>4</td>\n",
       "      <td>2018-01-01</td>\n",
       "    </tr>\n",
       "    <tr>\n",
       "      <th>1</th>\n",
       "      <td>2</td>\n",
       "      <td>2018-01-02</td>\n",
       "    </tr>\n",
       "    <tr>\n",
       "      <th>2</th>\n",
       "      <td>1</td>\n",
       "      <td>2018-01-03</td>\n",
       "    </tr>\n",
       "    <tr>\n",
       "      <th>3</th>\n",
       "      <td>3</td>\n",
       "      <td>2018-01-04</td>\n",
       "    </tr>\n",
       "    <tr>\n",
       "      <th>4</th>\n",
       "      <td>4</td>\n",
       "      <td>2018-01-05</td>\n",
       "    </tr>\n",
       "    <tr>\n",
       "      <th>5</th>\n",
       "      <td>4</td>\n",
       "      <td>2018-01-06</td>\n",
       "    </tr>\n",
       "    <tr>\n",
       "      <th>6</th>\n",
       "      <td>4</td>\n",
       "      <td>2018-01-07</td>\n",
       "    </tr>\n",
       "    <tr>\n",
       "      <th>7</th>\n",
       "      <td>3</td>\n",
       "      <td>2018-01-08</td>\n",
       "    </tr>\n",
       "    <tr>\n",
       "      <th>8</th>\n",
       "      <td>2</td>\n",
       "      <td>2018-01-09</td>\n",
       "    </tr>\n",
       "  </tbody>\n",
       "</table>\n",
       "</div>"
      ],
      "text/plain": [
       "   SerNo         By\n",
       "0      4 2018-01-01\n",
       "1      2 2018-01-02\n",
       "2      1 2018-01-03\n",
       "3      3 2018-01-04\n",
       "4      4 2018-01-05\n",
       "5      4 2018-01-06\n",
       "6      4 2018-01-07\n",
       "7      3 2018-01-08\n",
       "8      2 2018-01-09"
      ]
     },
     "execution_count": 11,
     "metadata": {},
     "output_type": "execute_result"
    }
   ],
   "source": [
    "# Dataframe of dates (contains 21 values)\n",
    "df1.loc[0:8,['SerNo', 'By']]"
   ]
  },
  {
   "cell_type": "code",
   "execution_count": 12,
   "metadata": {},
   "outputs": [
    {
     "data": {
      "text/html": [
       "<div>\n",
       "<style>\n",
       "    .dataframe thead tr:only-child th {\n",
       "        text-align: right;\n",
       "    }\n",
       "\n",
       "    .dataframe thead th {\n",
       "        text-align: left;\n",
       "    }\n",
       "\n",
       "    .dataframe tbody tr th {\n",
       "        vertical-align: top;\n",
       "    }\n",
       "</style>\n",
       "<table border=\"1\" class=\"dataframe\">\n",
       "  <thead>\n",
       "    <tr style=\"text-align: right;\">\n",
       "      <th></th>\n",
       "      <th>Start</th>\n",
       "      <th>End</th>\n",
       "      <th>Week</th>\n",
       "    </tr>\n",
       "  </thead>\n",
       "  <tbody>\n",
       "    <tr>\n",
       "      <th>0</th>\n",
       "      <td>2018-01-01</td>\n",
       "      <td>2018-01-07</td>\n",
       "      <td>W1</td>\n",
       "    </tr>\n",
       "    <tr>\n",
       "      <th>1</th>\n",
       "      <td>2018-01-08</td>\n",
       "      <td>2018-01-14</td>\n",
       "      <td>W2</td>\n",
       "    </tr>\n",
       "    <tr>\n",
       "      <th>2</th>\n",
       "      <td>2018-01-15</td>\n",
       "      <td>2018-01-21</td>\n",
       "      <td>W3</td>\n",
       "    </tr>\n",
       "  </tbody>\n",
       "</table>\n",
       "</div>"
      ],
      "text/plain": [
       "       Start        End Week\n",
       "0 2018-01-01 2018-01-07   W1\n",
       "1 2018-01-08 2018-01-14   W2\n",
       "2 2018-01-15 2018-01-21   W3"
      ]
     },
     "execution_count": 12,
     "metadata": {},
     "output_type": "execute_result"
    }
   ],
   "source": [
    "# Dataframe of weekly buckets\n",
    "df2[['Start', 'End', 'Week']]"
   ]
  },
  {
   "cell_type": "code",
   "execution_count": 13,
   "metadata": {},
   "outputs": [
    {
     "data": {
      "text/plain": [
       "IntervalIndex([[2018-01-01, 2018-01-07], [2018-01-08, 2018-01-14], [2018-01-15, 2018-01-21]]\n",
       "              closed='both',\n",
       "              dtype='interval[datetime64[ns]]')"
      ]
     },
     "execution_count": 13,
     "metadata": {},
     "output_type": "execute_result"
    }
   ],
   "source": [
    "# Array with Interval index of the weeks\n",
    "idx = pd.IntervalIndex.from_arrays(df2.Start, df2.End, closed='both')\n",
    "idx"
   ]
  },
  {
   "cell_type": "code",
   "execution_count": 14,
   "metadata": {},
   "outputs": [
    {
     "data": {
      "text/plain": [
       "0    W1\n",
       "0    W1\n",
       "0    W1\n",
       "0    W1\n",
       "0    W1\n",
       "0    W1\n",
       "0    W1\n",
       "1    W2\n",
       "1    W2\n",
       "1    W2\n",
       "Name: Week, dtype: object"
      ]
     },
     "execution_count": 14,
     "metadata": {},
     "output_type": "execute_result"
    }
   ],
   "source": [
    "week = df2.loc[idx.get_indexer(df1.By), 'Week']\n",
    "week[0:10]"
   ]
  },
  {
   "cell_type": "code",
   "execution_count": 15,
   "metadata": {},
   "outputs": [
    {
     "data": {
      "text/html": [
       "<div>\n",
       "<style>\n",
       "    .dataframe thead tr:only-child th {\n",
       "        text-align: right;\n",
       "    }\n",
       "\n",
       "    .dataframe thead th {\n",
       "        text-align: left;\n",
       "    }\n",
       "\n",
       "    .dataframe tbody tr th {\n",
       "        vertical-align: top;\n",
       "    }\n",
       "</style>\n",
       "<table border=\"1\" class=\"dataframe\">\n",
       "  <thead>\n",
       "    <tr style=\"text-align: right;\">\n",
       "      <th></th>\n",
       "      <th>SerNo</th>\n",
       "      <th>By</th>\n",
       "      <th>Week</th>\n",
       "    </tr>\n",
       "  </thead>\n",
       "  <tbody>\n",
       "    <tr>\n",
       "      <th>0</th>\n",
       "      <td>4</td>\n",
       "      <td>2018-01-01</td>\n",
       "      <td>W1</td>\n",
       "    </tr>\n",
       "    <tr>\n",
       "      <th>1</th>\n",
       "      <td>2</td>\n",
       "      <td>2018-01-02</td>\n",
       "      <td>W1</td>\n",
       "    </tr>\n",
       "    <tr>\n",
       "      <th>2</th>\n",
       "      <td>1</td>\n",
       "      <td>2018-01-03</td>\n",
       "      <td>W1</td>\n",
       "    </tr>\n",
       "    <tr>\n",
       "      <th>3</th>\n",
       "      <td>3</td>\n",
       "      <td>2018-01-04</td>\n",
       "      <td>W1</td>\n",
       "    </tr>\n",
       "    <tr>\n",
       "      <th>4</th>\n",
       "      <td>4</td>\n",
       "      <td>2018-01-05</td>\n",
       "      <td>W1</td>\n",
       "    </tr>\n",
       "    <tr>\n",
       "      <th>5</th>\n",
       "      <td>4</td>\n",
       "      <td>2018-01-06</td>\n",
       "      <td>W1</td>\n",
       "    </tr>\n",
       "    <tr>\n",
       "      <th>6</th>\n",
       "      <td>4</td>\n",
       "      <td>2018-01-07</td>\n",
       "      <td>W1</td>\n",
       "    </tr>\n",
       "    <tr>\n",
       "      <th>7</th>\n",
       "      <td>3</td>\n",
       "      <td>2018-01-08</td>\n",
       "      <td>W2</td>\n",
       "    </tr>\n",
       "    <tr>\n",
       "      <th>8</th>\n",
       "      <td>2</td>\n",
       "      <td>2018-01-09</td>\n",
       "      <td>W2</td>\n",
       "    </tr>\n",
       "    <tr>\n",
       "      <th>9</th>\n",
       "      <td>4</td>\n",
       "      <td>2018-01-10</td>\n",
       "      <td>W2</td>\n",
       "    </tr>\n",
       "    <tr>\n",
       "      <th>10</th>\n",
       "      <td>1</td>\n",
       "      <td>2018-01-11</td>\n",
       "      <td>W2</td>\n",
       "    </tr>\n",
       "  </tbody>\n",
       "</table>\n",
       "</div>"
      ],
      "text/plain": [
       "    SerNo         By Week\n",
       "0       4 2018-01-01   W1\n",
       "1       2 2018-01-02   W1\n",
       "2       1 2018-01-03   W1\n",
       "3       3 2018-01-04   W1\n",
       "4       4 2018-01-05   W1\n",
       "5       4 2018-01-06   W1\n",
       "6       4 2018-01-07   W1\n",
       "7       3 2018-01-08   W2\n",
       "8       2 2018-01-09   W2\n",
       "9       4 2018-01-10   W2\n",
       "10      1 2018-01-11   W2"
      ]
     },
     "execution_count": 15,
     "metadata": {},
     "output_type": "execute_result"
    }
   ],
   "source": [
    "df1['Week'] = week.values\n",
    "df1.loc[0:10, ['SerNo', 'By', 'Week']]"
   ]
  },
  {
   "cell_type": "markdown",
   "metadata": {},
   "source": [
    "# Lookup between two arrays and add records to master\n",
    "Ref: [StackOverflow: 46597513](https://stackoverflow.com/questions/46597513/splitting-order-quantities-by-type-and-scoop)"
   ]
  },
  {
   "cell_type": "code",
   "execution_count": 16,
   "metadata": {},
   "outputs": [
    {
     "data": {
      "text/html": [
       "<div>\n",
       "<style>\n",
       "    .dataframe thead tr:only-child th {\n",
       "        text-align: right;\n",
       "    }\n",
       "\n",
       "    .dataframe thead th {\n",
       "        text-align: left;\n",
       "    }\n",
       "\n",
       "    .dataframe tbody tr th {\n",
       "        vertical-align: top;\n",
       "    }\n",
       "</style>\n",
       "<table border=\"1\" class=\"dataframe\">\n",
       "  <thead>\n",
       "    <tr style=\"text-align: right;\">\n",
       "      <th></th>\n",
       "      <th>Date</th>\n",
       "      <th>Qty</th>\n",
       "      <th>Scoop</th>\n",
       "      <th>Type</th>\n",
       "    </tr>\n",
       "  </thead>\n",
       "  <tbody>\n",
       "    <tr>\n",
       "      <th>0</th>\n",
       "      <td>6-Oct-17</td>\n",
       "      <td>80.0</td>\n",
       "      <td>Single</td>\n",
       "      <td>A</td>\n",
       "    </tr>\n",
       "    <tr>\n",
       "      <th>1</th>\n",
       "      <td>10-Oct-17</td>\n",
       "      <td>90.0</td>\n",
       "      <td>Triple</td>\n",
       "      <td>B</td>\n",
       "    </tr>\n",
       "    <tr>\n",
       "      <th>2</th>\n",
       "      <td>9-Oct-17</td>\n",
       "      <td>40.0</td>\n",
       "      <td>Double</td>\n",
       "      <td>D</td>\n",
       "    </tr>\n",
       "    <tr>\n",
       "      <th>3</th>\n",
       "      <td>10-Oct-17</td>\n",
       "      <td>20.0</td>\n",
       "      <td>Double</td>\n",
       "      <td>C</td>\n",
       "    </tr>\n",
       "    <tr>\n",
       "      <th>4</th>\n",
       "      <td>10-Oct-17</td>\n",
       "      <td>90.0</td>\n",
       "      <td>Triple</td>\n",
       "      <td>B</td>\n",
       "    </tr>\n",
       "    <tr>\n",
       "      <th>5</th>\n",
       "      <td>9-Oct-17</td>\n",
       "      <td>30.0</td>\n",
       "      <td>Single</td>\n",
       "      <td>A</td>\n",
       "    </tr>\n",
       "  </tbody>\n",
       "</table>\n",
       "</div>"
      ],
      "text/plain": [
       "        Date   Qty   Scoop Type\n",
       "0   6-Oct-17  80.0  Single    A\n",
       "1  10-Oct-17  90.0  Triple    B\n",
       "2   9-Oct-17  40.0  Double    D\n",
       "3  10-Oct-17  20.0  Double    C\n",
       "4  10-Oct-17  90.0  Triple    B\n",
       "5   9-Oct-17  30.0  Single    A"
      ]
     },
     "execution_count": 16,
     "metadata": {},
     "output_type": "execute_result"
    }
   ],
   "source": [
    "import pandas as pd\n",
    "import numpy as np # This is required for indexing to ignore. Find+Replace nan to np.nan\n",
    "\n",
    "ask = [{'Date': '6-Oct-17', 'Qty': 80.0, 'Scoop': 'Single', 'Type': 'A'},\n",
    " {'Date': '10-Oct-17', 'Qty': 90.0, 'Scoop': 'Triple', 'Type': 'B'},\n",
    " {'Date': '9-Oct-17', 'Qty': 40.0, 'Scoop': 'Double', 'Type': 'D'},\n",
    " {'Date': '10-Oct-17', 'Qty': 20.0, 'Scoop': 'Double', 'Type': 'C'},\n",
    " {'Date': '10-Oct-17', 'Qty': 90.0, 'Scoop': 'Triple', 'Type': 'B'},\n",
    " {'Date': '9-Oct-17', 'Qty': 30.0, 'Scoop': 'Single', 'Type': 'A'}]\n",
    "\n",
    "ask = pd.DataFrame(ask)\n",
    "ask"
   ]
  },
  {
   "cell_type": "code",
   "execution_count": 17,
   "metadata": {},
   "outputs": [
    {
     "data": {
      "text/html": [
       "<div>\n",
       "<style>\n",
       "    .dataframe thead tr:only-child th {\n",
       "        text-align: right;\n",
       "    }\n",
       "\n",
       "    .dataframe thead th {\n",
       "        text-align: left;\n",
       "    }\n",
       "\n",
       "    .dataframe tbody tr th {\n",
       "        vertical-align: top;\n",
       "    }\n",
       "</style>\n",
       "<table border=\"1\" class=\"dataframe\">\n",
       "  <thead>\n",
       "    <tr style=\"text-align: right;\">\n",
       "      <th></th>\n",
       "      <th>Flavour1</th>\n",
       "      <th>Flavour2</th>\n",
       "      <th>Flavour3</th>\n",
       "      <th>Proportion</th>\n",
       "      <th>Scoop</th>\n",
       "      <th>Scoops/Tub</th>\n",
       "      <th>Type</th>\n",
       "    </tr>\n",
       "  </thead>\n",
       "  <tbody>\n",
       "    <tr>\n",
       "      <th>0</th>\n",
       "      <td>Strawberry</td>\n",
       "      <td>NaN</td>\n",
       "      <td>NaN</td>\n",
       "      <td>0.25</td>\n",
       "      <td>Single</td>\n",
       "      <td>4</td>\n",
       "      <td>A</td>\n",
       "    </tr>\n",
       "    <tr>\n",
       "      <th>1</th>\n",
       "      <td>Banana</td>\n",
       "      <td>Lemon</td>\n",
       "      <td>NaN</td>\n",
       "      <td>0.25</td>\n",
       "      <td>Double</td>\n",
       "      <td>2</td>\n",
       "      <td>C</td>\n",
       "    </tr>\n",
       "    <tr>\n",
       "      <th>2</th>\n",
       "      <td>Vanilla</td>\n",
       "      <td>Lemon</td>\n",
       "      <td>Mint</td>\n",
       "      <td>0.11</td>\n",
       "      <td>Triple</td>\n",
       "      <td>3</td>\n",
       "      <td>B</td>\n",
       "    </tr>\n",
       "    <tr>\n",
       "      <th>3</th>\n",
       "      <td>Chocolate</td>\n",
       "      <td>Vanilla</td>\n",
       "      <td>NaN</td>\n",
       "      <td>0.10</td>\n",
       "      <td>Double</td>\n",
       "      <td>5</td>\n",
       "      <td>D</td>\n",
       "    </tr>\n",
       "  </tbody>\n",
       "</table>\n",
       "</div>"
      ],
      "text/plain": [
       "     Flavour1 Flavour2 Flavour3  Proportion   Scoop  Scoops/Tub Type\n",
       "0  Strawberry      NaN      NaN        0.25  Single           4    A\n",
       "1      Banana    Lemon      NaN        0.25  Double           2    C\n",
       "2     Vanilla    Lemon     Mint        0.11  Triple           3    B\n",
       "3   Chocolate  Vanilla      NaN        0.10  Double           5    D"
      ]
     },
     "execution_count": 17,
     "metadata": {},
     "output_type": "execute_result"
    }
   ],
   "source": [
    "icecream = [{'Flavour1': 'Strawberry',\n",
    "  'Flavour2': np.nan,\n",
    "  'Flavour3': np.nan,\n",
    "  'Proportion': 0.25,\n",
    "  'Scoop': 'Single',\n",
    "  'Scoops/Tub': 4,\n",
    "  'Type': 'A'},\n",
    " {'Flavour1': 'Banana',\n",
    "  'Flavour2': 'Lemon',\n",
    "  'Flavour3': np.nan,\n",
    "  'Proportion': 0.25,\n",
    "  'Scoop': 'Double',\n",
    "  'Scoops/Tub': 2,\n",
    "  'Type': 'C'},\n",
    " {'Flavour1': 'Vanilla',\n",
    "  'Flavour2': 'Lemon',\n",
    "  'Flavour3': 'Mint',\n",
    "  'Proportion': 0.11,\n",
    "  'Scoop': 'Triple',\n",
    "  'Scoops/Tub': 3,\n",
    "  'Type': 'B'},\n",
    " {'Flavour1': 'Chocolate',\n",
    "  'Flavour2': 'Vanilla',\n",
    "  'Flavour3': np.nan,\n",
    "  'Proportion': 0.1,\n",
    "  'Scoop': 'Double',\n",
    "  'Scoops/Tub': 5,\n",
    "  'Type': 'D'}]\n",
    "\n",
    "icecream = pd.DataFrame(icecream)\n",
    "icecream"
   ]
  },
  {
   "cell_type": "code",
   "execution_count": 18,
   "metadata": {},
   "outputs": [
    {
     "data": {
      "text/html": [
       "<div>\n",
       "<style>\n",
       "    .dataframe thead tr:only-child th {\n",
       "        text-align: right;\n",
       "    }\n",
       "\n",
       "    .dataframe thead th {\n",
       "        text-align: left;\n",
       "    }\n",
       "\n",
       "    .dataframe tbody tr th {\n",
       "        vertical-align: top;\n",
       "    }\n",
       "</style>\n",
       "<table border=\"1\" class=\"dataframe\">\n",
       "  <thead>\n",
       "    <tr style=\"text-align: right;\">\n",
       "      <th></th>\n",
       "      <th>Date</th>\n",
       "      <th>Qty</th>\n",
       "      <th>Scoop</th>\n",
       "      <th>Type</th>\n",
       "      <th>Flavour1</th>\n",
       "      <th>Flavour2</th>\n",
       "      <th>Flavour3</th>\n",
       "      <th>Proportion</th>\n",
       "      <th>Scoops/Tub</th>\n",
       "    </tr>\n",
       "  </thead>\n",
       "  <tbody>\n",
       "    <tr>\n",
       "      <th>0</th>\n",
       "      <td>6-Oct-17</td>\n",
       "      <td>80.0</td>\n",
       "      <td>Single</td>\n",
       "      <td>A</td>\n",
       "      <td>Strawberry</td>\n",
       "      <td>NaN</td>\n",
       "      <td>NaN</td>\n",
       "      <td>0.25</td>\n",
       "      <td>4</td>\n",
       "    </tr>\n",
       "    <tr>\n",
       "      <th>1</th>\n",
       "      <td>10-Oct-17</td>\n",
       "      <td>90.0</td>\n",
       "      <td>Triple</td>\n",
       "      <td>B</td>\n",
       "      <td>Vanilla</td>\n",
       "      <td>Lemon</td>\n",
       "      <td>Mint</td>\n",
       "      <td>0.11</td>\n",
       "      <td>3</td>\n",
       "    </tr>\n",
       "    <tr>\n",
       "      <th>2</th>\n",
       "      <td>9-Oct-17</td>\n",
       "      <td>40.0</td>\n",
       "      <td>Double</td>\n",
       "      <td>D</td>\n",
       "      <td>Chocolate</td>\n",
       "      <td>Vanilla</td>\n",
       "      <td>NaN</td>\n",
       "      <td>0.10</td>\n",
       "      <td>5</td>\n",
       "    </tr>\n",
       "    <tr>\n",
       "      <th>3</th>\n",
       "      <td>10-Oct-17</td>\n",
       "      <td>20.0</td>\n",
       "      <td>Double</td>\n",
       "      <td>C</td>\n",
       "      <td>Banana</td>\n",
       "      <td>Lemon</td>\n",
       "      <td>NaN</td>\n",
       "      <td>0.25</td>\n",
       "      <td>2</td>\n",
       "    </tr>\n",
       "    <tr>\n",
       "      <th>4</th>\n",
       "      <td>10-Oct-17</td>\n",
       "      <td>90.0</td>\n",
       "      <td>Triple</td>\n",
       "      <td>B</td>\n",
       "      <td>Vanilla</td>\n",
       "      <td>Lemon</td>\n",
       "      <td>Mint</td>\n",
       "      <td>0.11</td>\n",
       "      <td>3</td>\n",
       "    </tr>\n",
       "    <tr>\n",
       "      <th>5</th>\n",
       "      <td>9-Oct-17</td>\n",
       "      <td>30.0</td>\n",
       "      <td>Single</td>\n",
       "      <td>A</td>\n",
       "      <td>Strawberry</td>\n",
       "      <td>NaN</td>\n",
       "      <td>NaN</td>\n",
       "      <td>0.25</td>\n",
       "      <td>4</td>\n",
       "    </tr>\n",
       "  </tbody>\n",
       "</table>\n",
       "</div>"
      ],
      "text/plain": [
       "        Date   Qty   Scoop Type    Flavour1 Flavour2 Flavour3  Proportion  \\\n",
       "0   6-Oct-17  80.0  Single    A  Strawberry      NaN      NaN        0.25   \n",
       "1  10-Oct-17  90.0  Triple    B     Vanilla    Lemon     Mint        0.11   \n",
       "2   9-Oct-17  40.0  Double    D   Chocolate  Vanilla      NaN        0.10   \n",
       "3  10-Oct-17  20.0  Double    C      Banana    Lemon      NaN        0.25   \n",
       "4  10-Oct-17  90.0  Triple    B     Vanilla    Lemon     Mint        0.11   \n",
       "5   9-Oct-17  30.0  Single    A  Strawberry      NaN      NaN        0.25   \n",
       "\n",
       "   Scoops/Tub  \n",
       "0           4  \n",
       "1           3  \n",
       "2           5  \n",
       "3           2  \n",
       "4           3  \n",
       "5           4  "
      ]
     },
     "execution_count": 18,
     "metadata": {},
     "output_type": "execute_result"
    }
   ],
   "source": [
    "tub=ask.merge(icecream.drop('Scoop',1),on='Type',how='left')\n",
    "tub"
   ]
  },
  {
   "cell_type": "code",
   "execution_count": 19,
   "metadata": {},
   "outputs": [
    {
     "data": {
      "text/html": [
       "<div>\n",
       "<style>\n",
       "    .dataframe thead tr:only-child th {\n",
       "        text-align: right;\n",
       "    }\n",
       "\n",
       "    .dataframe thead th {\n",
       "        text-align: left;\n",
       "    }\n",
       "\n",
       "    .dataframe tbody tr th {\n",
       "        vertical-align: top;\n",
       "    }\n",
       "</style>\n",
       "<table border=\"1\" class=\"dataframe\">\n",
       "  <thead>\n",
       "    <tr style=\"text-align: right;\">\n",
       "      <th></th>\n",
       "      <th>Date</th>\n",
       "      <th>Type</th>\n",
       "      <th>Scoop</th>\n",
       "      <th>Qty</th>\n",
       "      <th>Scoops/Tub</th>\n",
       "      <th>Proportion</th>\n",
       "      <th>level_6</th>\n",
       "      <th>0</th>\n",
       "    </tr>\n",
       "  </thead>\n",
       "  <tbody>\n",
       "    <tr>\n",
       "      <th>0</th>\n",
       "      <td>6-Oct-17</td>\n",
       "      <td>A</td>\n",
       "      <td>Single</td>\n",
       "      <td>80.0</td>\n",
       "      <td>4</td>\n",
       "      <td>0.25</td>\n",
       "      <td>Flavour1</td>\n",
       "      <td>Strawberry</td>\n",
       "    </tr>\n",
       "    <tr>\n",
       "      <th>1</th>\n",
       "      <td>10-Oct-17</td>\n",
       "      <td>B</td>\n",
       "      <td>Triple</td>\n",
       "      <td>90.0</td>\n",
       "      <td>3</td>\n",
       "      <td>0.11</td>\n",
       "      <td>Flavour1</td>\n",
       "      <td>Vanilla</td>\n",
       "    </tr>\n",
       "    <tr>\n",
       "      <th>2</th>\n",
       "      <td>10-Oct-17</td>\n",
       "      <td>B</td>\n",
       "      <td>Triple</td>\n",
       "      <td>90.0</td>\n",
       "      <td>3</td>\n",
       "      <td>0.11</td>\n",
       "      <td>Flavour2</td>\n",
       "      <td>Lemon</td>\n",
       "    </tr>\n",
       "    <tr>\n",
       "      <th>3</th>\n",
       "      <td>10-Oct-17</td>\n",
       "      <td>B</td>\n",
       "      <td>Triple</td>\n",
       "      <td>90.0</td>\n",
       "      <td>3</td>\n",
       "      <td>0.11</td>\n",
       "      <td>Flavour3</td>\n",
       "      <td>Mint</td>\n",
       "    </tr>\n",
       "    <tr>\n",
       "      <th>4</th>\n",
       "      <td>9-Oct-17</td>\n",
       "      <td>D</td>\n",
       "      <td>Double</td>\n",
       "      <td>40.0</td>\n",
       "      <td>5</td>\n",
       "      <td>0.10</td>\n",
       "      <td>Flavour1</td>\n",
       "      <td>Chocolate</td>\n",
       "    </tr>\n",
       "    <tr>\n",
       "      <th>5</th>\n",
       "      <td>9-Oct-17</td>\n",
       "      <td>D</td>\n",
       "      <td>Double</td>\n",
       "      <td>40.0</td>\n",
       "      <td>5</td>\n",
       "      <td>0.10</td>\n",
       "      <td>Flavour2</td>\n",
       "      <td>Vanilla</td>\n",
       "    </tr>\n",
       "    <tr>\n",
       "      <th>6</th>\n",
       "      <td>10-Oct-17</td>\n",
       "      <td>C</td>\n",
       "      <td>Double</td>\n",
       "      <td>20.0</td>\n",
       "      <td>2</td>\n",
       "      <td>0.25</td>\n",
       "      <td>Flavour1</td>\n",
       "      <td>Banana</td>\n",
       "    </tr>\n",
       "    <tr>\n",
       "      <th>7</th>\n",
       "      <td>10-Oct-17</td>\n",
       "      <td>C</td>\n",
       "      <td>Double</td>\n",
       "      <td>20.0</td>\n",
       "      <td>2</td>\n",
       "      <td>0.25</td>\n",
       "      <td>Flavour2</td>\n",
       "      <td>Lemon</td>\n",
       "    </tr>\n",
       "    <tr>\n",
       "      <th>8</th>\n",
       "      <td>10-Oct-17</td>\n",
       "      <td>B</td>\n",
       "      <td>Triple</td>\n",
       "      <td>90.0</td>\n",
       "      <td>3</td>\n",
       "      <td>0.11</td>\n",
       "      <td>Flavour1</td>\n",
       "      <td>Vanilla</td>\n",
       "    </tr>\n",
       "    <tr>\n",
       "      <th>9</th>\n",
       "      <td>10-Oct-17</td>\n",
       "      <td>B</td>\n",
       "      <td>Triple</td>\n",
       "      <td>90.0</td>\n",
       "      <td>3</td>\n",
       "      <td>0.11</td>\n",
       "      <td>Flavour2</td>\n",
       "      <td>Lemon</td>\n",
       "    </tr>\n",
       "    <tr>\n",
       "      <th>10</th>\n",
       "      <td>10-Oct-17</td>\n",
       "      <td>B</td>\n",
       "      <td>Triple</td>\n",
       "      <td>90.0</td>\n",
       "      <td>3</td>\n",
       "      <td>0.11</td>\n",
       "      <td>Flavour3</td>\n",
       "      <td>Mint</td>\n",
       "    </tr>\n",
       "    <tr>\n",
       "      <th>11</th>\n",
       "      <td>9-Oct-17</td>\n",
       "      <td>A</td>\n",
       "      <td>Single</td>\n",
       "      <td>30.0</td>\n",
       "      <td>4</td>\n",
       "      <td>0.25</td>\n",
       "      <td>Flavour1</td>\n",
       "      <td>Strawberry</td>\n",
       "    </tr>\n",
       "  </tbody>\n",
       "</table>\n",
       "</div>"
      ],
      "text/plain": [
       "         Date Type   Scoop   Qty  Scoops/Tub  Proportion   level_6           0\n",
       "0    6-Oct-17    A  Single  80.0           4        0.25  Flavour1  Strawberry\n",
       "1   10-Oct-17    B  Triple  90.0           3        0.11  Flavour1     Vanilla\n",
       "2   10-Oct-17    B  Triple  90.0           3        0.11  Flavour2       Lemon\n",
       "3   10-Oct-17    B  Triple  90.0           3        0.11  Flavour3        Mint\n",
       "4    9-Oct-17    D  Double  40.0           5        0.10  Flavour1   Chocolate\n",
       "5    9-Oct-17    D  Double  40.0           5        0.10  Flavour2     Vanilla\n",
       "6   10-Oct-17    C  Double  20.0           2        0.25  Flavour1      Banana\n",
       "7   10-Oct-17    C  Double  20.0           2        0.25  Flavour2       Lemon\n",
       "8   10-Oct-17    B  Triple  90.0           3        0.11  Flavour1     Vanilla\n",
       "9   10-Oct-17    B  Triple  90.0           3        0.11  Flavour2       Lemon\n",
       "10  10-Oct-17    B  Triple  90.0           3        0.11  Flavour3        Mint\n",
       "11   9-Oct-17    A  Single  30.0           4        0.25  Flavour1  Strawberry"
      ]
     },
     "execution_count": 19,
     "metadata": {},
     "output_type": "execute_result"
    }
   ],
   "source": [
    "tub=tub.set_index(['Date','Type','Scoop','Qty','Scoops/Tub','Proportion']).stack().reset_index()\n",
    "tub"
   ]
  },
  {
   "cell_type": "code",
   "execution_count": 20,
   "metadata": {},
   "outputs": [
    {
     "data": {
      "text/html": [
       "<div>\n",
       "<style>\n",
       "    .dataframe thead tr:only-child th {\n",
       "        text-align: right;\n",
       "    }\n",
       "\n",
       "    .dataframe thead th {\n",
       "        text-align: left;\n",
       "    }\n",
       "\n",
       "    .dataframe tbody tr th {\n",
       "        vertical-align: top;\n",
       "    }\n",
       "</style>\n",
       "<table border=\"1\" class=\"dataframe\">\n",
       "  <thead>\n",
       "    <tr style=\"text-align: right;\">\n",
       "      <th></th>\n",
       "      <th>Date</th>\n",
       "      <th>Type</th>\n",
       "      <th>Scoop</th>\n",
       "      <th>Qty</th>\n",
       "      <th>Scoops/Tub</th>\n",
       "      <th>Proportion</th>\n",
       "      <th>level_6</th>\n",
       "      <th>0</th>\n",
       "    </tr>\n",
       "  </thead>\n",
       "  <tbody>\n",
       "    <tr>\n",
       "      <th>0</th>\n",
       "      <td>6-Oct-17</td>\n",
       "      <td>A</td>\n",
       "      <td>Single</td>\n",
       "      <td>20.0</td>\n",
       "      <td>4</td>\n",
       "      <td>0.25</td>\n",
       "      <td>Flavour1</td>\n",
       "      <td>Strawberry</td>\n",
       "    </tr>\n",
       "    <tr>\n",
       "      <th>1</th>\n",
       "      <td>10-Oct-17</td>\n",
       "      <td>B</td>\n",
       "      <td>Triple</td>\n",
       "      <td>9.9</td>\n",
       "      <td>3</td>\n",
       "      <td>0.11</td>\n",
       "      <td>Flavour1</td>\n",
       "      <td>Vanilla</td>\n",
       "    </tr>\n",
       "    <tr>\n",
       "      <th>2</th>\n",
       "      <td>10-Oct-17</td>\n",
       "      <td>B</td>\n",
       "      <td>Triple</td>\n",
       "      <td>9.9</td>\n",
       "      <td>3</td>\n",
       "      <td>0.11</td>\n",
       "      <td>Flavour2</td>\n",
       "      <td>Lemon</td>\n",
       "    </tr>\n",
       "    <tr>\n",
       "      <th>3</th>\n",
       "      <td>10-Oct-17</td>\n",
       "      <td>B</td>\n",
       "      <td>Triple</td>\n",
       "      <td>9.9</td>\n",
       "      <td>3</td>\n",
       "      <td>0.11</td>\n",
       "      <td>Flavour3</td>\n",
       "      <td>Mint</td>\n",
       "    </tr>\n",
       "    <tr>\n",
       "      <th>4</th>\n",
       "      <td>9-Oct-17</td>\n",
       "      <td>D</td>\n",
       "      <td>Double</td>\n",
       "      <td>4.0</td>\n",
       "      <td>5</td>\n",
       "      <td>0.10</td>\n",
       "      <td>Flavour1</td>\n",
       "      <td>Chocolate</td>\n",
       "    </tr>\n",
       "    <tr>\n",
       "      <th>5</th>\n",
       "      <td>9-Oct-17</td>\n",
       "      <td>D</td>\n",
       "      <td>Double</td>\n",
       "      <td>4.0</td>\n",
       "      <td>5</td>\n",
       "      <td>0.10</td>\n",
       "      <td>Flavour2</td>\n",
       "      <td>Vanilla</td>\n",
       "    </tr>\n",
       "    <tr>\n",
       "      <th>6</th>\n",
       "      <td>10-Oct-17</td>\n",
       "      <td>C</td>\n",
       "      <td>Double</td>\n",
       "      <td>5.0</td>\n",
       "      <td>2</td>\n",
       "      <td>0.25</td>\n",
       "      <td>Flavour1</td>\n",
       "      <td>Banana</td>\n",
       "    </tr>\n",
       "    <tr>\n",
       "      <th>7</th>\n",
       "      <td>10-Oct-17</td>\n",
       "      <td>C</td>\n",
       "      <td>Double</td>\n",
       "      <td>5.0</td>\n",
       "      <td>2</td>\n",
       "      <td>0.25</td>\n",
       "      <td>Flavour2</td>\n",
       "      <td>Lemon</td>\n",
       "    </tr>\n",
       "    <tr>\n",
       "      <th>8</th>\n",
       "      <td>10-Oct-17</td>\n",
       "      <td>B</td>\n",
       "      <td>Triple</td>\n",
       "      <td>9.9</td>\n",
       "      <td>3</td>\n",
       "      <td>0.11</td>\n",
       "      <td>Flavour1</td>\n",
       "      <td>Vanilla</td>\n",
       "    </tr>\n",
       "    <tr>\n",
       "      <th>9</th>\n",
       "      <td>10-Oct-17</td>\n",
       "      <td>B</td>\n",
       "      <td>Triple</td>\n",
       "      <td>9.9</td>\n",
       "      <td>3</td>\n",
       "      <td>0.11</td>\n",
       "      <td>Flavour2</td>\n",
       "      <td>Lemon</td>\n",
       "    </tr>\n",
       "    <tr>\n",
       "      <th>10</th>\n",
       "      <td>10-Oct-17</td>\n",
       "      <td>B</td>\n",
       "      <td>Triple</td>\n",
       "      <td>9.9</td>\n",
       "      <td>3</td>\n",
       "      <td>0.11</td>\n",
       "      <td>Flavour3</td>\n",
       "      <td>Mint</td>\n",
       "    </tr>\n",
       "    <tr>\n",
       "      <th>11</th>\n",
       "      <td>9-Oct-17</td>\n",
       "      <td>A</td>\n",
       "      <td>Single</td>\n",
       "      <td>7.5</td>\n",
       "      <td>4</td>\n",
       "      <td>0.25</td>\n",
       "      <td>Flavour1</td>\n",
       "      <td>Strawberry</td>\n",
       "    </tr>\n",
       "  </tbody>\n",
       "</table>\n",
       "</div>"
      ],
      "text/plain": [
       "         Date Type   Scoop   Qty  Scoops/Tub  Proportion   level_6           0\n",
       "0    6-Oct-17    A  Single  20.0           4        0.25  Flavour1  Strawberry\n",
       "1   10-Oct-17    B  Triple   9.9           3        0.11  Flavour1     Vanilla\n",
       "2   10-Oct-17    B  Triple   9.9           3        0.11  Flavour2       Lemon\n",
       "3   10-Oct-17    B  Triple   9.9           3        0.11  Flavour3        Mint\n",
       "4    9-Oct-17    D  Double   4.0           5        0.10  Flavour1   Chocolate\n",
       "5    9-Oct-17    D  Double   4.0           5        0.10  Flavour2     Vanilla\n",
       "6   10-Oct-17    C  Double   5.0           2        0.25  Flavour1      Banana\n",
       "7   10-Oct-17    C  Double   5.0           2        0.25  Flavour2       Lemon\n",
       "8   10-Oct-17    B  Triple   9.9           3        0.11  Flavour1     Vanilla\n",
       "9   10-Oct-17    B  Triple   9.9           3        0.11  Flavour2       Lemon\n",
       "10  10-Oct-17    B  Triple   9.9           3        0.11  Flavour3        Mint\n",
       "11   9-Oct-17    A  Single   7.5           4        0.25  Flavour1  Strawberry"
      ]
     },
     "execution_count": 20,
     "metadata": {},
     "output_type": "execute_result"
    }
   ],
   "source": [
    "tub['Qty']=tub['Qty']*tub['Proportion']\n",
    "tub"
   ]
  },
  {
   "cell_type": "code",
   "execution_count": 21,
   "metadata": {},
   "outputs": [
    {
     "data": {
      "text/html": [
       "<div>\n",
       "<style>\n",
       "    .dataframe thead tr:only-child th {\n",
       "        text-align: right;\n",
       "    }\n",
       "\n",
       "    .dataframe thead th {\n",
       "        text-align: left;\n",
       "    }\n",
       "\n",
       "    .dataframe tbody tr th {\n",
       "        vertical-align: top;\n",
       "    }\n",
       "</style>\n",
       "<table border=\"1\" class=\"dataframe\">\n",
       "  <thead>\n",
       "    <tr style=\"text-align: right;\">\n",
       "      <th></th>\n",
       "      <th>Date</th>\n",
       "      <th>Type</th>\n",
       "      <th>Qty</th>\n",
       "      <th>Scoop</th>\n",
       "      <th>Flavour</th>\n",
       "    </tr>\n",
       "  </thead>\n",
       "  <tbody>\n",
       "    <tr>\n",
       "      <th>0</th>\n",
       "      <td>6-Oct-17</td>\n",
       "      <td>A</td>\n",
       "      <td>20.0</td>\n",
       "      <td>Flavour1</td>\n",
       "      <td>Strawberry</td>\n",
       "    </tr>\n",
       "    <tr>\n",
       "      <th>1</th>\n",
       "      <td>10-Oct-17</td>\n",
       "      <td>B</td>\n",
       "      <td>9.9</td>\n",
       "      <td>Flavour1</td>\n",
       "      <td>Vanilla</td>\n",
       "    </tr>\n",
       "    <tr>\n",
       "      <th>2</th>\n",
       "      <td>10-Oct-17</td>\n",
       "      <td>B</td>\n",
       "      <td>9.9</td>\n",
       "      <td>Flavour2</td>\n",
       "      <td>Lemon</td>\n",
       "    </tr>\n",
       "    <tr>\n",
       "      <th>3</th>\n",
       "      <td>10-Oct-17</td>\n",
       "      <td>B</td>\n",
       "      <td>9.9</td>\n",
       "      <td>Flavour3</td>\n",
       "      <td>Mint</td>\n",
       "    </tr>\n",
       "    <tr>\n",
       "      <th>4</th>\n",
       "      <td>9-Oct-17</td>\n",
       "      <td>D</td>\n",
       "      <td>4.0</td>\n",
       "      <td>Flavour1</td>\n",
       "      <td>Chocolate</td>\n",
       "    </tr>\n",
       "    <tr>\n",
       "      <th>5</th>\n",
       "      <td>9-Oct-17</td>\n",
       "      <td>D</td>\n",
       "      <td>4.0</td>\n",
       "      <td>Flavour2</td>\n",
       "      <td>Vanilla</td>\n",
       "    </tr>\n",
       "    <tr>\n",
       "      <th>6</th>\n",
       "      <td>10-Oct-17</td>\n",
       "      <td>C</td>\n",
       "      <td>5.0</td>\n",
       "      <td>Flavour1</td>\n",
       "      <td>Banana</td>\n",
       "    </tr>\n",
       "    <tr>\n",
       "      <th>7</th>\n",
       "      <td>10-Oct-17</td>\n",
       "      <td>C</td>\n",
       "      <td>5.0</td>\n",
       "      <td>Flavour2</td>\n",
       "      <td>Lemon</td>\n",
       "    </tr>\n",
       "    <tr>\n",
       "      <th>8</th>\n",
       "      <td>10-Oct-17</td>\n",
       "      <td>B</td>\n",
       "      <td>9.9</td>\n",
       "      <td>Flavour1</td>\n",
       "      <td>Vanilla</td>\n",
       "    </tr>\n",
       "    <tr>\n",
       "      <th>9</th>\n",
       "      <td>10-Oct-17</td>\n",
       "      <td>B</td>\n",
       "      <td>9.9</td>\n",
       "      <td>Flavour2</td>\n",
       "      <td>Lemon</td>\n",
       "    </tr>\n",
       "    <tr>\n",
       "      <th>10</th>\n",
       "      <td>10-Oct-17</td>\n",
       "      <td>B</td>\n",
       "      <td>9.9</td>\n",
       "      <td>Flavour3</td>\n",
       "      <td>Mint</td>\n",
       "    </tr>\n",
       "    <tr>\n",
       "      <th>11</th>\n",
       "      <td>9-Oct-17</td>\n",
       "      <td>A</td>\n",
       "      <td>7.5</td>\n",
       "      <td>Flavour1</td>\n",
       "      <td>Strawberry</td>\n",
       "    </tr>\n",
       "  </tbody>\n",
       "</table>\n",
       "</div>"
      ],
      "text/plain": [
       "         Date Type   Qty     Scoop     Flavour\n",
       "0    6-Oct-17    A  20.0  Flavour1  Strawberry\n",
       "1   10-Oct-17    B   9.9  Flavour1     Vanilla\n",
       "2   10-Oct-17    B   9.9  Flavour2       Lemon\n",
       "3   10-Oct-17    B   9.9  Flavour3        Mint\n",
       "4    9-Oct-17    D   4.0  Flavour1   Chocolate\n",
       "5    9-Oct-17    D   4.0  Flavour2     Vanilla\n",
       "6   10-Oct-17    C   5.0  Flavour1      Banana\n",
       "7   10-Oct-17    C   5.0  Flavour2       Lemon\n",
       "8   10-Oct-17    B   9.9  Flavour1     Vanilla\n",
       "9   10-Oct-17    B   9.9  Flavour2       Lemon\n",
       "10  10-Oct-17    B   9.9  Flavour3        Mint\n",
       "11   9-Oct-17    A   7.5  Flavour1  Strawberry"
      ]
     },
     "execution_count": 21,
     "metadata": {},
     "output_type": "execute_result"
    }
   ],
   "source": [
    "tub=tub.drop(['Scoops/Tub','Proportion','Scoop'],1).rename(columns={'level_6':'Scoop',0:'Flavour'})\n",
    "tub"
   ]
  },
  {
   "cell_type": "markdown",
   "metadata": {},
   "source": [
    "# Check if a date is inside or outside a specified date range"
   ]
  },
  {
   "cell_type": "code",
   "execution_count": 26,
   "metadata": {},
   "outputs": [
    {
     "data": {
      "text/html": [
       "<div>\n",
       "<style>\n",
       "    .dataframe thead tr:only-child th {\n",
       "        text-align: right;\n",
       "    }\n",
       "\n",
       "    .dataframe thead th {\n",
       "        text-align: left;\n",
       "    }\n",
       "\n",
       "    .dataframe tbody tr th {\n",
       "        vertical-align: top;\n",
       "    }\n",
       "</style>\n",
       "<table border=\"1\" class=\"dataframe\">\n",
       "  <thead>\n",
       "    <tr style=\"text-align: right;\">\n",
       "      <th></th>\n",
       "      <th>A</th>\n",
       "      <th>B</th>\n",
       "      <th>C</th>\n",
       "      <th>Inside</th>\n",
       "    </tr>\n",
       "  </thead>\n",
       "  <tbody>\n",
       "    <tr>\n",
       "      <th>0</th>\n",
       "      <td>2017-01-01</td>\n",
       "      <td>2017-01-06</td>\n",
       "      <td>2017-01-08</td>\n",
       "      <td>5 days</td>\n",
       "    </tr>\n",
       "    <tr>\n",
       "      <th>1</th>\n",
       "      <td>2017-01-02</td>\n",
       "      <td>2017-01-13</td>\n",
       "      <td>2017-01-08</td>\n",
       "      <td>0 days</td>\n",
       "    </tr>\n",
       "    <tr>\n",
       "      <th>2</th>\n",
       "      <td>2017-01-03</td>\n",
       "      <td>2017-01-20</td>\n",
       "      <td>2017-01-08</td>\n",
       "      <td>0 days</td>\n",
       "    </tr>\n",
       "    <tr>\n",
       "      <th>3</th>\n",
       "      <td>2017-01-04</td>\n",
       "      <td>2017-01-27</td>\n",
       "      <td>2017-01-08</td>\n",
       "      <td>0 days</td>\n",
       "    </tr>\n",
       "    <tr>\n",
       "      <th>4</th>\n",
       "      <td>2017-01-05</td>\n",
       "      <td>2017-02-03</td>\n",
       "      <td>2017-01-08</td>\n",
       "      <td>0 days</td>\n",
       "    </tr>\n",
       "    <tr>\n",
       "      <th>5</th>\n",
       "      <td>2017-01-06</td>\n",
       "      <td>2017-02-10</td>\n",
       "      <td>2017-01-08</td>\n",
       "      <td>0 days</td>\n",
       "    </tr>\n",
       "    <tr>\n",
       "      <th>6</th>\n",
       "      <td>2017-01-07</td>\n",
       "      <td>2017-02-17</td>\n",
       "      <td>2017-01-08</td>\n",
       "      <td>0 days</td>\n",
       "    </tr>\n",
       "    <tr>\n",
       "      <th>7</th>\n",
       "      <td>2017-01-08</td>\n",
       "      <td>2017-02-24</td>\n",
       "      <td>2017-01-08</td>\n",
       "      <td>0 days</td>\n",
       "    </tr>\n",
       "    <tr>\n",
       "      <th>8</th>\n",
       "      <td>2017-01-09</td>\n",
       "      <td>2017-03-03</td>\n",
       "      <td>2017-01-08</td>\n",
       "      <td>0 days</td>\n",
       "    </tr>\n",
       "    <tr>\n",
       "      <th>9</th>\n",
       "      <td>2017-01-10</td>\n",
       "      <td>2017-03-10</td>\n",
       "      <td>2017-01-08</td>\n",
       "      <td>0 days</td>\n",
       "    </tr>\n",
       "  </tbody>\n",
       "</table>\n",
       "</div>"
      ],
      "text/plain": [
       "           A          B          C Inside\n",
       "0 2017-01-01 2017-01-06 2017-01-08 5 days\n",
       "1 2017-01-02 2017-01-13 2017-01-08 0 days\n",
       "2 2017-01-03 2017-01-20 2017-01-08 0 days\n",
       "3 2017-01-04 2017-01-27 2017-01-08 0 days\n",
       "4 2017-01-05 2017-02-03 2017-01-08 0 days\n",
       "5 2017-01-06 2017-02-10 2017-01-08 0 days\n",
       "6 2017-01-07 2017-02-17 2017-01-08 0 days\n",
       "7 2017-01-08 2017-02-24 2017-01-08 0 days\n",
       "8 2017-01-09 2017-03-03 2017-01-08 0 days\n",
       "9 2017-01-10 2017-03-10 2017-01-08 0 days"
      ]
     },
     "execution_count": 26,
     "metadata": {},
     "output_type": "execute_result"
    }
   ],
   "source": [
    "# Check if a date is inside or outside a specified date range column\n",
    "import pandas as pd\n",
    "import numpy as np\n",
    "df = pd.DataFrame({'A': pd.date_range('20170101', periods=10),\n",
    "                    'B': pd.date_range('20170101', '20170310', freq=\"W-Fri\"),\n",
    "                    'C': pd.Timestamp('20170108')}); df\n",
    "                \n",
    "# df['Inside'] = np.where( (df['B'] > df['A']) & (df['B'] < df['C']), 'In' , 'Out'); df\n",
    "df['Inside'] = np.where( (df['B'] > df['A']) & (df['B'] < df['C']), df['B'] - df['A'] , df['A'] - df['A']); df"
   ]
  },
  {
   "cell_type": "markdown",
   "metadata": {},
   "source": [
    "# Build arrays for sample data"
   ]
  },
  {
   "cell_type": "code",
   "execution_count": 1,
   "metadata": {},
   "outputs": [
    {
     "data": {
      "text/plain": [
       "array([[1.15280939e-311, 1.15280939e-311],\n",
       "       [1.15280938e-311, 1.15280939e-311],\n",
       "       [1.15280939e-311, 1.15280939e-311]])"
      ]
     },
     "execution_count": 1,
     "metadata": {},
     "output_type": "execute_result"
    }
   ],
   "source": [
    "import numpy as np\n",
    "np.empty((3,2))"
   ]
  },
  {
   "cell_type": "code",
   "execution_count": 28,
   "metadata": {},
   "outputs": [
    {
     "data": {
      "text/plain": [
       "array([[7, 7],\n",
       "       [7, 7]])"
      ]
     },
     "execution_count": 28,
     "metadata": {},
     "output_type": "execute_result"
    }
   ],
   "source": [
    "np.full((2,2),7)"
   ]
  },
  {
   "cell_type": "code",
   "execution_count": 29,
   "metadata": {},
   "outputs": [
    {
     "data": {
      "text/plain": [
       "array([10, 15, 20])"
      ]
     },
     "execution_count": 29,
     "metadata": {},
     "output_type": "execute_result"
    }
   ],
   "source": [
    "np.arange(10,25,5)"
   ]
  },
  {
   "cell_type": "code",
   "execution_count": 30,
   "metadata": {},
   "outputs": [
    {
     "data": {
      "text/plain": [
       "array([ 0.  ,  0.25,  0.5 ,  0.75,  1.  ,  1.25,  1.5 ,  1.75,  2.  ])"
      ]
     },
     "execution_count": 30,
     "metadata": {},
     "output_type": "execute_result"
    }
   ],
   "source": [
    "np.linspace(0,2,9)"
   ]
  },
  {
   "cell_type": "code",
   "execution_count": 31,
   "metadata": {},
   "outputs": [
    {
     "data": {
      "text/plain": [
       "array([0])"
      ]
     },
     "execution_count": 31,
     "metadata": {},
     "output_type": "execute_result"
    }
   ],
   "source": [
    "np.arange(0,2,9)"
   ]
  },
  {
   "cell_type": "code",
   "execution_count": 32,
   "metadata": {},
   "outputs": [
    {
     "data": {
      "text/plain": [
       "array([[ 1.,  0.,  0.,  0.,  0.],\n",
       "       [ 0.,  1.,  0.,  0.,  0.],\n",
       "       [ 0.,  0.,  1.,  0.,  0.],\n",
       "       [ 0.,  0.,  0.,  1.,  0.],\n",
       "       [ 0.,  0.,  0.,  0.,  1.]])"
      ]
     },
     "execution_count": 32,
     "metadata": {},
     "output_type": "execute_result"
    }
   ],
   "source": [
    "np.identity(5)"
   ]
  },
  {
   "cell_type": "code",
   "execution_count": 33,
   "metadata": {},
   "outputs": [
    {
     "data": {
      "text/plain": [
       "array([[ 0.85645477,  0.        ,  0.        ,  0.        ,  0.        ],\n",
       "       [ 0.        ,  0.77764032,  0.        ,  0.        ,  0.        ],\n",
       "       [ 0.        ,  0.        ,  0.66091001,  0.        ,  0.        ],\n",
       "       [ 0.        ,  0.        ,  0.        ,  0.18323735,  0.        ],\n",
       "       [ 0.        ,  0.        ,  0.        ,  0.        ,  0.51126476]])"
      ]
     },
     "execution_count": 33,
     "metadata": {},
     "output_type": "execute_result"
    }
   ],
   "source": [
    "np.random.random((5,5))*np.identity(5)"
   ]
  },
  {
   "cell_type": "code",
   "execution_count": 11,
   "metadata": {},
   "outputs": [
    {
     "data": {
      "text/plain": [
       "array([0.91451458, 1.09888063, 1.51211738, 0.45926729, 1.16658068])"
      ]
     },
     "execution_count": 11,
     "metadata": {},
     "output_type": "execute_result"
    }
   ],
   "source": [
    "np.random.lognormal(mean=0, sigma=1, size=5)"
   ]
  },
  {
   "cell_type": "markdown",
   "metadata": {},
   "source": [
    "# Group By"
   ]
  },
  {
   "cell_type": "code",
   "execution_count": 34,
   "metadata": {},
   "outputs": [
    {
     "data": {
      "text/html": [
       "<div>\n",
       "<style>\n",
       "    .dataframe thead tr:only-child th {\n",
       "        text-align: right;\n",
       "    }\n",
       "\n",
       "    .dataframe thead th {\n",
       "        text-align: left;\n",
       "    }\n",
       "\n",
       "    .dataframe tbody tr th {\n",
       "        vertical-align: top;\n",
       "    }\n",
       "</style>\n",
       "<table border=\"1\" class=\"dataframe\">\n",
       "  <thead>\n",
       "    <tr style=\"text-align: right;\">\n",
       "      <th></th>\n",
       "      <th></th>\n",
       "      <th>C</th>\n",
       "      <th>D</th>\n",
       "    </tr>\n",
       "    <tr>\n",
       "      <th>A</th>\n",
       "      <th>B</th>\n",
       "      <th></th>\n",
       "      <th></th>\n",
       "    </tr>\n",
       "  </thead>\n",
       "  <tbody>\n",
       "    <tr>\n",
       "      <th rowspan=\"3\" valign=\"top\">bar</th>\n",
       "      <th>one</th>\n",
       "      <td>-0.772346</td>\n",
       "      <td>-0.284711</td>\n",
       "    </tr>\n",
       "    <tr>\n",
       "      <th>three</th>\n",
       "      <td>-3.195753</td>\n",
       "      <td>-0.135773</td>\n",
       "    </tr>\n",
       "    <tr>\n",
       "      <th>two</th>\n",
       "      <td>0.104124</td>\n",
       "      <td>0.964093</td>\n",
       "    </tr>\n",
       "    <tr>\n",
       "      <th rowspan=\"3\" valign=\"top\">foo</th>\n",
       "      <th>one</th>\n",
       "      <td>0.921606</td>\n",
       "      <td>0.166225</td>\n",
       "    </tr>\n",
       "    <tr>\n",
       "      <th>three</th>\n",
       "      <td>0.576626</td>\n",
       "      <td>1.033141</td>\n",
       "    </tr>\n",
       "    <tr>\n",
       "      <th>two</th>\n",
       "      <td>-0.002207</td>\n",
       "      <td>-2.588266</td>\n",
       "    </tr>\n",
       "  </tbody>\n",
       "</table>\n",
       "</div>"
      ],
      "text/plain": [
       "                  C         D\n",
       "A   B                        \n",
       "bar one   -0.772346 -0.284711\n",
       "    three -3.195753 -0.135773\n",
       "    two    0.104124  0.964093\n",
       "foo one    0.921606  0.166225\n",
       "    three  0.576626  1.033141\n",
       "    two   -0.002207 -2.588266"
      ]
     },
     "execution_count": 34,
     "metadata": {},
     "output_type": "execute_result"
    }
   ],
   "source": [
    "import pandas as pd\n",
    "import numpy as np\n",
    "df = pd.DataFrame({'A' : ['foo', 'bar', 'foo', 'bar',\n",
    "                           'foo', 'bar', 'foo', 'foo'],\n",
    "                    'B' : ['one', 'one', 'two', 'three',\n",
    "                           'two', 'two', 'one', 'three'],\n",
    "                    'C' : np.random.randn(8),\n",
    "                    'D' : np.random.randn(8)})\n",
    "\n",
    "grouped = df.groupby(['A', 'B'])\n",
    "grouped.last()"
   ]
  },
  {
   "cell_type": "markdown",
   "metadata": {
    "collapsed": true
   },
   "source": [
    "# Extract Ticker symbols of S&P 500"
   ]
  },
  {
   "cell_type": "code",
   "execution_count": 9,
   "metadata": {},
   "outputs": [
    {
     "data": {
      "text/html": [
       "<div>\n",
       "<style scoped>\n",
       "    .dataframe tbody tr th:only-of-type {\n",
       "        vertical-align: middle;\n",
       "    }\n",
       "\n",
       "    .dataframe tbody tr th {\n",
       "        vertical-align: top;\n",
       "    }\n",
       "\n",
       "    .dataframe thead th {\n",
       "        text-align: right;\n",
       "    }\n",
       "</style>\n",
       "<table border=\"1\" class=\"dataframe\">\n",
       "  <thead>\n",
       "    <tr style=\"text-align: right;\">\n",
       "      <th></th>\n",
       "      <th>Ticker symbol</th>\n",
       "      <th>Security</th>\n",
       "      <th>SEC filings</th>\n",
       "      <th>GICS Sector</th>\n",
       "      <th>GICS Sub Industry</th>\n",
       "      <th>Location</th>\n",
       "      <th>Date first added[3][4]</th>\n",
       "      <th>CIK</th>\n",
       "      <th>Founded</th>\n",
       "    </tr>\n",
       "  </thead>\n",
       "  <tbody>\n",
       "    <tr>\n",
       "      <th>0</th>\n",
       "      <td>MMM</td>\n",
       "      <td>3M Company</td>\n",
       "      <td>reports</td>\n",
       "      <td>Industrials</td>\n",
       "      <td>Industrial Conglomerates</td>\n",
       "      <td>St. Paul, Minnesota</td>\n",
       "      <td>NaN</td>\n",
       "      <td>66740</td>\n",
       "      <td>1902</td>\n",
       "    </tr>\n",
       "    <tr>\n",
       "      <th>1</th>\n",
       "      <td>ABT</td>\n",
       "      <td>Abbott Laboratories</td>\n",
       "      <td>reports</td>\n",
       "      <td>Health Care</td>\n",
       "      <td>Health Care Equipment</td>\n",
       "      <td>North Chicago, Illinois</td>\n",
       "      <td>1964-03-31</td>\n",
       "      <td>1800</td>\n",
       "      <td>1888</td>\n",
       "    </tr>\n",
       "    <tr>\n",
       "      <th>2</th>\n",
       "      <td>ABBV</td>\n",
       "      <td>AbbVie Inc.</td>\n",
       "      <td>reports</td>\n",
       "      <td>Health Care</td>\n",
       "      <td>Pharmaceuticals</td>\n",
       "      <td>North Chicago, Illinois</td>\n",
       "      <td>2012-12-31</td>\n",
       "      <td>1551152</td>\n",
       "      <td>2013 (1888)</td>\n",
       "    </tr>\n",
       "    <tr>\n",
       "      <th>3</th>\n",
       "      <td>ABMD</td>\n",
       "      <td>ABIOMED Inc</td>\n",
       "      <td>reports</td>\n",
       "      <td>Health Care</td>\n",
       "      <td>Health Care Equipment</td>\n",
       "      <td>Danvers, Massachusetts</td>\n",
       "      <td>2018-05-31</td>\n",
       "      <td>815094</td>\n",
       "      <td>1981</td>\n",
       "    </tr>\n",
       "    <tr>\n",
       "      <th>4</th>\n",
       "      <td>ACN</td>\n",
       "      <td>Accenture plc</td>\n",
       "      <td>reports</td>\n",
       "      <td>Information Technology</td>\n",
       "      <td>IT Consulting &amp; Other Services</td>\n",
       "      <td>Dublin, Ireland</td>\n",
       "      <td>2011-07-06</td>\n",
       "      <td>1467373</td>\n",
       "      <td>1989</td>\n",
       "    </tr>\n",
       "  </tbody>\n",
       "</table>\n",
       "</div>"
      ],
      "text/plain": [
       "  Ticker symbol             Security SEC filings             GICS Sector  \\\n",
       "0           MMM           3M Company     reports             Industrials   \n",
       "1           ABT  Abbott Laboratories     reports             Health Care   \n",
       "2          ABBV          AbbVie Inc.     reports             Health Care   \n",
       "3          ABMD          ABIOMED Inc     reports             Health Care   \n",
       "4           ACN        Accenture plc     reports  Information Technology   \n",
       "\n",
       "                GICS Sub Industry                 Location  \\\n",
       "0        Industrial Conglomerates      St. Paul, Minnesota   \n",
       "1           Health Care Equipment  North Chicago, Illinois   \n",
       "2                 Pharmaceuticals  North Chicago, Illinois   \n",
       "3           Health Care Equipment   Danvers, Massachusetts   \n",
       "4  IT Consulting & Other Services          Dublin, Ireland   \n",
       "\n",
       "  Date first added[3][4]      CIK      Founded  \n",
       "0                    NaN    66740         1902  \n",
       "1             1964-03-31     1800         1888  \n",
       "2             2012-12-31  1551152  2013 (1888)  \n",
       "3             2018-05-31   815094         1981  \n",
       "4             2011-07-06  1467373         1989  "
      ]
     },
     "execution_count": 9,
     "metadata": {},
     "output_type": "execute_result"
    }
   ],
   "source": [
    "import pandas as pd\n",
    "\n",
    "url = https.urlopen('GET', 'https://en.wikipedia.org/wiki/List_of_S%26P_500_companies')\n",
    "symbols_table = pd.read_html(url.data, header=0)[0]\n",
    "symbols = list(symbols_table.loc[:, \"Ticker symbol\"])\n",
    "symbols_table.head()"
   ]
  },
  {
   "cell_type": "markdown",
   "metadata": {},
   "source": [
    "# Classes\n",
    "Best practice on classes and OOP in python (Ref: [jeffknupp.com](https://jeffknupp.com/blog/2014/06/18/improve-your-python-python-classes-and-object-oriented-programming/))"
   ]
  },
  {
   "cell_type": "code",
   "execution_count": null,
   "metadata": {
    "collapsed": true
   },
   "outputs": [],
   "source": [
    "class Customer(object):\n",
    "    \"\"\"A customer of ABC Bank with a checking account. Customers have the \n",
    "    following properites:\n",
    "    \n",
    "    Attributes:\n",
    "       name: A string representing the customer's name.\n",
    "       balance: A float tracking the current balance of the customer's account\n",
    "    \n",
    "    \"\"\"\n",
    "    \n",
    "    def __init__(self, name, balance=0.0):\n",
    "        \"\"\"Return a Customer object whose name is *name* and starting \n",
    "        balance is *balance*.\"\"\"\n",
    "        self.name = name\n",
    "        self.balance = balance\n",
    "        \n",
    "    def withdraw(self, amount):\n",
    "        \"\"\"Return the balance remaining after withdrawing *amount* \n",
    "        dollars.\"\"\"\n",
    "        if amount > self.balance:\n",
    "            raise RuntimeError('Amount greater than available balance.')\n",
    "        self.balance -= amount\n",
    "        return self.balance\n",
    "    \n",
    "    def deposit(self, amount):\n",
    "        \"\"\"Return the balance remaining after depositing *amount*\n",
    "        dollars.\"\"\"\n",
    "        self.balance += amount\n",
    "        return self.balance       \n",
    "    "
   ]
  },
  {
   "cell_type": "code",
   "execution_count": null,
   "metadata": {
    "collapsed": true
   },
   "outputs": [],
   "source": [
    "# To call (instantiate) the class\n",
    "jeff = Customer('Jeff Knupp', 1000.0)    #jeff is the object, which is an iinstance of the *Customer* class"
   ]
  },
  {
   "cell_type": "code",
   "execution_count": null,
   "metadata": {
    "collapsed": true
   },
   "outputs": [],
   "source": [
    "# The *self* parameter in *Customer* methods performs the given instructions.\n",
    "# For e.g. to withdraw\n",
    "\n",
    "jeff.withdraw(100.0)   # Instruction to withdraw\n",
    "jeff.balance           # Shows 900.0"
   ]
  },
  {
   "cell_type": "code",
   "execution_count": null,
   "metadata": {
    "collapsed": true
   },
   "outputs": [],
   "source": [
    "# Another way to withdraw is by using the class name itself as follows:\n",
    "Customer.withdraw(jeff, 200.0)\n",
    "jeff.balance           # Shows 700.0"
   ]
  },
  {
   "cell_type": "code",
   "execution_count": null,
   "metadata": {
    "collapsed": true
   },
   "outputs": [],
   "source": [
    "class Car(object):\n",
    "    \"\"\" A car with wheels, make and model\n",
    "    \n",
    "    Usage::     Car(make, model)\n",
    "    \n",
    "    Attr:\n",
    "       make: A string representing car company\n",
    "       model: a string representing the model of the car\n",
    "    \n",
    "    \"\"\"\n",
    "    wheels = 4\n",
    "    \n",
    "    def __init__(self, make, model):\n",
    "        \"\"\"Returns a Car object whose company is *make* and model is *model*\"\"\"\n",
    "        self.make = make\n",
    "        self.model = model\n",
    "\n",
    "mustang = Car(\"Ford\", \"Mustang\")\n",
    "mustang.make"
   ]
  },
  {
   "cell_type": "code",
   "execution_count": null,
   "metadata": {
    "collapsed": true
   },
   "outputs": [],
   "source": [
    "mustang.model"
   ]
  },
  {
   "cell_type": "code",
   "execution_count": null,
   "metadata": {
    "collapsed": true
   },
   "outputs": [],
   "source": [
    "mustang.wheels"
   ]
  },
  {
   "cell_type": "code",
   "execution_count": null,
   "metadata": {
    "collapsed": true
   },
   "outputs": [],
   "source": [
    "Car.wheels"
   ]
  },
  {
   "cell_type": "code",
   "execution_count": null,
   "metadata": {
    "collapsed": true
   },
   "outputs": [],
   "source": [
    "class Car(object):\n",
    "    \"\"\" A car with wheels, make and model\n",
    "    \n",
    "    Usage::     Car(make, model)\n",
    "    \n",
    "    Attr:\n",
    "       make: A string representing car company\n",
    "       model: a string representing the model of the car\n",
    "    \n",
    "    \"\"\"\n",
    "    wheels = 4\n",
    "    \n",
    "    def __init__(self, make, model):\n",
    "        \"\"\"Returns a Car object whose company is *make* and model is *model*\"\"\"\n",
    "        self.make = make\n",
    "        self.model = model\n",
    "    \n",
    "    @staticmethod\n",
    "    def make_car_sound():\n",
    "        print('Vrooooooooom!')\n",
    "\n",
    "mustang = Car(\"Ford\", \"Mustang\")\n",
    "mustang.make"
   ]
  },
  {
   "cell_type": "code",
   "execution_count": null,
   "metadata": {
    "collapsed": true
   },
   "outputs": [],
   "source": [
    "Car.make_car_sound()"
   ]
  },
  {
   "cell_type": "code",
   "execution_count": null,
   "metadata": {
    "collapsed": true
   },
   "outputs": [],
   "source": [
    "class Vehicle(object):\n",
    "    \"\"\" A vehicle with wheels make and model\n",
    "    \n",
    "    Usage:: Vehicle(wheels, miles, make, model, year, sold_on)\n",
    "    \n",
    "    Attr:\n",
    "       wheels: An integer representing the number of wheels\n",
    "       miles: An integer with number of miles\n",
    "       make: A string representing car company\n",
    "       model: A string representing the model of the car\n",
    "       year: An integer year when the car was built\n",
    "       sold_on: Date when the vehicle was sold\n",
    "    \n",
    "    \"\"\"\n",
    "    \n",
    "    def __init__(self, wheels, miles, make, model, year, sold_on):\n",
    "        \"\"\"Return a new Vehicle object\"\"\"\n",
    "        self.wheels = wheels\n",
    "        self.miles = miles\n",
    "        self.make = make\n",
    "        self.model = model\n",
    "        self.year = year\n",
    "        self.sold_on = sold_on\n",
    "        \n",
    "    def sale_price(self):\n",
    "        \"\"\"Return the sale price for this vehicle as a float amount\"\"\"\n",
    "        if self.sold_on is not None:\n",
    "            return 0.0 # Already sold\n",
    "        return 5000.0 * self.wheels\n",
    "    \n",
    "    def purchase_price(self):\n",
    "        \"\"\"Return the price for which we would pay to purchase the vehicle\"\"\"\n",
    "        if self.sold_on is None:\n",
    "            return 0.0  # Not yet sold\n",
    "        return 8000 - (.10 * self.miles)\n",
    "        "
   ]
  },
  {
   "cell_type": "markdown",
   "metadata": {},
   "source": [
    "Instantiate the vehicle (Still not DRY code !!!). Also shouldn't let Vehicle to be created. Only Cars and Trucks should be creatable."
   ]
  },
  {
   "cell_type": "code",
   "execution_count": null,
   "metadata": {
    "collapsed": true
   },
   "outputs": [],
   "source": [
    "class Car(Vehicle):\n",
    "    \n",
    "    def __init__(self, wheels, miles, make, model, year, sold_on):\n",
    "        \"\"\"Return a new Car object\"\"\"\n",
    "        self.wheels = wheels\n",
    "        self.miles = miles\n",
    "        self.make = make\n",
    "        self.model = model\n",
    "        self.year = year\n",
    "        self.sold_on = sold_on\n",
    "        self.base_sale_price = 8000\n",
    "        \n",
    "class Truck(Vehicle):\n",
    "    \n",
    "    def __init__(self, wheels, miles, make, model, year, sold_on):\n",
    "        \"\"\"Return a new Truck object\"\"\"\n",
    "        self.wheels = wheels\n",
    "        self.miles = miles\n",
    "        self.make = make\n",
    "        self.model = model\n",
    "        self.year = year\n",
    "        self.sold_on = sold_on\n",
    "        self.base_sale_price = 10000"
   ]
  },
  {
   "cell_type": "code",
   "execution_count": null,
   "metadata": {
    "collapsed": true
   },
   "outputs": [],
   "source": [
    "v = Vehicle(4, 0, 'Honda', 'Accord', 2014, None)"
   ]
  },
  {
   "cell_type": "code",
   "execution_count": null,
   "metadata": {
    "collapsed": true
   },
   "outputs": [],
   "source": [
    "v.purchase_price()"
   ]
  },
  {
   "cell_type": "markdown",
   "metadata": {},
   "source": [
    "# Abstract Base Class (ABC)\n",
    "Use Abstract Base Class to abstract away some common data and behaviour."
   ]
  },
  {
   "cell_type": "code",
   "execution_count": null,
   "metadata": {
    "collapsed": true
   },
   "outputs": [],
   "source": [
    "from abc import ABCMeta, abstractmethod\n",
    "\n",
    "class Vehicle(object):\n",
    "    \"\"\"A vehicle for sale by Kashi's Dealership\n",
    "    \n",
    "    Usage:: \n",
    "    \n",
    "    Attr:\n",
    "       wheels: No of wheels of the vehicle - Integer\n",
    "       miles: No of miles driven on vehicle - Integer\n",
    "       make: Manufacturer of the vehicle - String\n",
    "       model: Model of the vehicle - String\n",
    "       year: Year when the vehicle was built - Integer\n",
    "       sold_on: Date when vehicle was sold - Date\n",
    "    \n",
    "    \"\"\"\n",
    "    \n",
    "    __metaclass__ = ABCMeta\n",
    "    \n",
    "    base_sale_price = 0\n",
    "    wheels = 0\n",
    "    \n",
    "    def __init__(self, miles, make, model, year, sold_on):\n",
    "        \"\"\" Returns a new Vehicle object\"\"\"\n",
    "        self.miles = miles\n",
    "        self.make = make\n",
    "        self.model = model\n",
    "        self.year = year\n",
    "        self.sold_on = sold_on\n",
    "        \n",
    "    def sale_price(self):\n",
    "        \"\"\"Return the sale price for the vehicle - Float\"\"\"\n",
    "        if self.sold_on is not None:\n",
    "            return 0.0 # Already sold\n",
    "        return 5000.0 * self.wheels\n",
    "    \n",
    "    def purchase_price(self):\n",
    "        \"\"\"Return the price we would pay to purchase the vehicle - Float\"\"\"\n",
    "        if self.sold_on is None:\n",
    "            return 0.0 # Not yet sold\n",
    "        return self.base_sale_price - (0.10 * self.miles)\n",
    "    \n",
    "    \n",
    "    @abstractmethod\n",
    "    def vehicle_type(self):\n",
    "        \"\"\"Returns type of vehicle - String\"\"\"\n",
    "        pass        \n",
    "        \n",
    "        "
   ]
  },
  {
   "cell_type": "markdown",
   "metadata": {},
   "source": [
    "Now the *Car* and *Truck* classes become:"
   ]
  },
  {
   "cell_type": "code",
   "execution_count": null,
   "metadata": {
    "collapsed": true
   },
   "outputs": [],
   "source": [
    "class Car(Vehicle):\n",
    "    \"\"\"A car for sale by Kashi's dealership\"\"\"\n",
    "    \n",
    "    base_sale_price = 8000\n",
    "    wheels = 4\n",
    "    \n",
    "    def vehicle_type(self):\n",
    "        \"\"\"Return a string representing type of this vehicle - String\"\"\"\n",
    "        return 'car'\n",
    "    \n",
    "class Truck(Vehicle):\n",
    "    \"\"\"A truck for sale by Kashi's dealership\"\"\"\n",
    "    \n",
    "    base_sale_price = 10000\n",
    "    wheels = 4\n",
    "    \n",
    "    def vehicle_type(self):\n",
    "        \"\"\"Return a string representing type of this vehicle - String\"\"\"\n",
    "        return 'truck'\n",
    "        "
   ]
  },
  {
   "cell_type": "code",
   "execution_count": null,
   "metadata": {
    "collapsed": true
   },
   "outputs": [],
   "source": [
    "class Motorcycle(Vehicle):\n",
    "    \"\"\"A motorcycle for sale by Kashi's dealership\"\"\"\n",
    "    \n",
    "    base_sale_price = 4000\n",
    "    wheels = 2\n",
    "    \n",
    "    def vehicle_type(self):\n",
    "        \"\"\"Return a string representing type of this vehicle - String\"\"\"\n",
    "        return \"motorcycle\""
   ]
  },
  {
   "cell_type": "code",
   "execution_count": null,
   "metadata": {
    "collapsed": true
   },
   "outputs": [],
   "source": [
    "mc = Motorcycle(make='Honda', miles=2000, model='Hawk', sold_on=\"01-Feb-2008\",year=2007)\n",
    "mc.vehicle_type()"
   ]
  },
  {
   "cell_type": "markdown",
   "metadata": {},
   "source": [
    "# Profiling Python Code\n",
    "[Easy Python Profiling](http://mortada.net/easily-profile-python-code-in-jupyter.html)\n",
    "\n",
    "\n",
    "Profiling Python code can be done by:\n",
    "1. %%time - for the whole code\n",
    "2. %%timeit - for repeated execution of single lines - or entire code. This doesn't give output\n",
    "3. %load_ext line_profiler\n",
    "+ %lprun -f function_name function_name(arguments)"
   ]
  },
  {
   "cell_type": "markdown",
   "metadata": {
    "collapsed": true
   },
   "source": [
    "# Printing lexed contents of a python file in Jupyter\n",
    "\n",
    "Uses [Pygments](http://pygments.org/docs/quickstart/) Syntax highlighter\n",
    "<p><b>Note:</b> This has been put as a function in _utilities.py_</p>"
   ]
  },
  {
   "cell_type": "code",
   "execution_count": 1,
   "metadata": {},
   "outputs": [
    {
     "data": {
      "text/html": [
       "<style type=\"text/css\">.highlight .hll { background-color: #ffffcc }\n",
       ".highlight  { background: #f8f8f8; }\n",
       ".highlight .c { color: #408080; font-style: italic } /* Comment */\n",
       ".highlight .err { border: 1px solid #FF0000 } /* Error */\n",
       ".highlight .k { color: #008000; font-weight: bold } /* Keyword */\n",
       ".highlight .o { color: #666666 } /* Operator */\n",
       ".highlight .ch { color: #408080; font-style: italic } /* Comment.Hashbang */\n",
       ".highlight .cm { color: #408080; font-style: italic } /* Comment.Multiline */\n",
       ".highlight .cp { color: #BC7A00 } /* Comment.Preproc */\n",
       ".highlight .cpf { color: #408080; font-style: italic } /* Comment.PreprocFile */\n",
       ".highlight .c1 { color: #408080; font-style: italic } /* Comment.Single */\n",
       ".highlight .cs { color: #408080; font-style: italic } /* Comment.Special */\n",
       ".highlight .gd { color: #A00000 } /* Generic.Deleted */\n",
       ".highlight .ge { font-style: italic } /* Generic.Emph */\n",
       ".highlight .gr { color: #FF0000 } /* Generic.Error */\n",
       ".highlight .gh { color: #000080; font-weight: bold } /* Generic.Heading */\n",
       ".highlight .gi { color: #00A000 } /* Generic.Inserted */\n",
       ".highlight .go { color: #888888 } /* Generic.Output */\n",
       ".highlight .gp { color: #000080; font-weight: bold } /* Generic.Prompt */\n",
       ".highlight .gs { font-weight: bold } /* Generic.Strong */\n",
       ".highlight .gu { color: #800080; font-weight: bold } /* Generic.Subheading */\n",
       ".highlight .gt { color: #0044DD } /* Generic.Traceback */\n",
       ".highlight .kc { color: #008000; font-weight: bold } /* Keyword.Constant */\n",
       ".highlight .kd { color: #008000; font-weight: bold } /* Keyword.Declaration */\n",
       ".highlight .kn { color: #008000; font-weight: bold } /* Keyword.Namespace */\n",
       ".highlight .kp { color: #008000 } /* Keyword.Pseudo */\n",
       ".highlight .kr { color: #008000; font-weight: bold } /* Keyword.Reserved */\n",
       ".highlight .kt { color: #B00040 } /* Keyword.Type */\n",
       ".highlight .m { color: #666666 } /* Literal.Number */\n",
       ".highlight .s { color: #BA2121 } /* Literal.String */\n",
       ".highlight .na { color: #7D9029 } /* Name.Attribute */\n",
       ".highlight .nb { color: #008000 } /* Name.Builtin */\n",
       ".highlight .nc { color: #0000FF; font-weight: bold } /* Name.Class */\n",
       ".highlight .no { color: #880000 } /* Name.Constant */\n",
       ".highlight .nd { color: #AA22FF } /* Name.Decorator */\n",
       ".highlight .ni { color: #999999; font-weight: bold } /* Name.Entity */\n",
       ".highlight .ne { color: #D2413A; font-weight: bold } /* Name.Exception */\n",
       ".highlight .nf { color: #0000FF } /* Name.Function */\n",
       ".highlight .nl { color: #A0A000 } /* Name.Label */\n",
       ".highlight .nn { color: #0000FF; font-weight: bold } /* Name.Namespace */\n",
       ".highlight .nt { color: #008000; font-weight: bold } /* Name.Tag */\n",
       ".highlight .nv { color: #19177C } /* Name.Variable */\n",
       ".highlight .ow { color: #AA22FF; font-weight: bold } /* Operator.Word */\n",
       ".highlight .w { color: #bbbbbb } /* Text.Whitespace */\n",
       ".highlight .mb { color: #666666 } /* Literal.Number.Bin */\n",
       ".highlight .mf { color: #666666 } /* Literal.Number.Float */\n",
       ".highlight .mh { color: #666666 } /* Literal.Number.Hex */\n",
       ".highlight .mi { color: #666666 } /* Literal.Number.Integer */\n",
       ".highlight .mo { color: #666666 } /* Literal.Number.Oct */\n",
       ".highlight .sa { color: #BA2121 } /* Literal.String.Affix */\n",
       ".highlight .sb { color: #BA2121 } /* Literal.String.Backtick */\n",
       ".highlight .sc { color: #BA2121 } /* Literal.String.Char */\n",
       ".highlight .dl { color: #BA2121 } /* Literal.String.Delimiter */\n",
       ".highlight .sd { color: #BA2121; font-style: italic } /* Literal.String.Doc */\n",
       ".highlight .s2 { color: #BA2121 } /* Literal.String.Double */\n",
       ".highlight .se { color: #BB6622; font-weight: bold } /* Literal.String.Escape */\n",
       ".highlight .sh { color: #BA2121 } /* Literal.String.Heredoc */\n",
       ".highlight .si { color: #BB6688; font-weight: bold } /* Literal.String.Interpol */\n",
       ".highlight .sx { color: #008000 } /* Literal.String.Other */\n",
       ".highlight .sr { color: #BB6688 } /* Literal.String.Regex */\n",
       ".highlight .s1 { color: #BA2121 } /* Literal.String.Single */\n",
       ".highlight .ss { color: #19177C } /* Literal.String.Symbol */\n",
       ".highlight .bp { color: #008000 } /* Name.Builtin.Pseudo */\n",
       ".highlight .fm { color: #0000FF } /* Name.Function.Magic */\n",
       ".highlight .vc { color: #19177C } /* Name.Variable.Class */\n",
       ".highlight .vg { color: #19177C } /* Name.Variable.Global */\n",
       ".highlight .vi { color: #19177C } /* Name.Variable.Instance */\n",
       ".highlight .vm { color: #19177C } /* Name.Variable.Magic */\n",
       ".highlight .il { color: #666666 } /* Literal.Number.Integer.Long */</style><div class=\"highlight\"><pre><span></span><span class=\"c1\"># This program adds two numbers</span>\n",
       "\n",
       "<span class=\"n\">num1</span> <span class=\"o\">=</span> <span class=\"mf\">1.5</span>\n",
       "<span class=\"n\">num2</span> <span class=\"o\">=</span> <span class=\"mf\">6.3</span>\n",
       "\n",
       "<span class=\"c1\"># Add two numbers</span>\n",
       "<span class=\"nb\">sum</span> <span class=\"o\">=</span> <span class=\"nb\">float</span><span class=\"p\">(</span><span class=\"n\">num1</span><span class=\"p\">)</span> <span class=\"o\">+</span> <span class=\"nb\">float</span><span class=\"p\">(</span><span class=\"n\">num2</span><span class=\"p\">)</span>\n",
       "\n",
       "<span class=\"c1\"># Display the sum</span>\n",
       "<span class=\"k\">print</span><span class=\"p\">(</span><span class=\"s1\">&#39;The sum of {0} and {1} is {2}&#39;</span><span class=\"o\">.</span><span class=\"n\">format</span><span class=\"p\">(</span><span class=\"n\">num1</span><span class=\"p\">,</span> <span class=\"n\">num2</span><span class=\"p\">,</span> <span class=\"nb\">sum</span><span class=\"p\">))</span>\n",
       "</pre></div>\n"
      ],
      "text/plain": [
       "<IPython.core.display.HTML object>"
      ]
     },
     "execution_count": 1,
     "metadata": {},
     "output_type": "execute_result"
    }
   ],
   "source": [
    "from pygments import highlight\n",
    "from pygments.lexers import PythonLexer\n",
    "from pygments.formatters import HtmlFormatter\n",
    "import IPython\n",
    "\n",
    "def display_py(code):\n",
    "    \"\"\"Displays python file code in Jupyter\n",
    "    \n",
    "    Arg: (srting from py file) code\n",
    "    \n",
    "    Output: code formatted for jupyter\n",
    "    \n",
    "    Usage: with open(myfile) as f:\n",
    "                code = f.read()\n",
    "                \n",
    "           display_py(code)\n",
    "    \"\"\"\n",
    "    formatter = HtmlFormatter()\n",
    "    \n",
    "    html_code = highlight(code, PythonLexer(), HtmlFormatter())\n",
    "    styled_html = '<style type=\"text/css\">{}</style>{}'.format(formatter.get_style_defs('.highlight'), html_code)\n",
    "    ipython_code = IPython.display.HTML(styled_html)\n",
    "    \n",
    "    return ipython_code\n",
    "    \n",
    "with open('add_two_numbers.py') as f:\n",
    "    code = f.read()\n",
    "    \n",
    "display_py(code)"
   ]
  },
  {
   "cell_type": "markdown",
   "metadata": {},
   "source": [
    "# List comprehensions"
   ]
  },
  {
   "cell_type": "markdown",
   "metadata": {},
   "source": [
    "## Running ib_insync code in blocks"
   ]
  },
  {
   "cell_type": "code",
   "execution_count": null,
   "metadata": {},
   "outputs": [],
   "source": [
    "for i in range(0, len(options), 100):\n",
    "    for t in ib.reqTickers(*options[i:i+100]):\n",
    "        print(t)"
   ]
  },
  {
   "cell_type": "markdown",
   "metadata": {},
   "source": [
    "...in list comprehension"
   ]
  },
  {
   "cell_type": "code",
   "execution_count": null,
   "metadata": {},
   "outputs": [],
   "source": [
    "[t for i in range(0, len(options), 100) for t in ib.reqTickers(*options[i:i+100])]"
   ]
  },
  {
   "cell_type": "markdown",
   "metadata": {},
   "source": [
    "## Catching errors in list comprehension\n",
    "Ref: [Stack Overflow: 1528237](https://stackoverflow.com/a/8915613/7978112)"
   ]
  },
  {
   "cell_type": "code",
   "execution_count": 3,
   "metadata": {},
   "outputs": [],
   "source": [
    "def catch(func, handle=lambda e : e, *args, **kwargs):\n",
    "    try:\n",
    "        return func(*args, **kwargs)\n",
    "    except Exception as e:\n",
    "        return handle(e)"
   ]
  },
  {
   "cell_type": "code",
   "execution_count": 4,
   "metadata": {},
   "outputs": [
    {
     "data": {
      "text/plain": [
       "[1.0,\n",
       " 0.3333333333333333,\n",
       " ZeroDivisionError('division by zero'),\n",
       " 0.3333333333333333,\n",
       " 0.5]"
      ]
     },
     "execution_count": 4,
     "metadata": {},
     "output_type": "execute_result"
    }
   ],
   "source": [
    "# In the list comprehension\n",
    "eggs = (1,3,0,3,2)\n",
    "[catch(lambda : 1/egg) for egg in eggs]"
   ]
  },
  {
   "cell_type": "markdown",
   "metadata": {},
   "source": [
    "## Make dataframes from a nested list\n",
    "Also used for making a dataframe from 3 lists of unequal lengths"
   ]
  },
  {
   "cell_type": "code",
   "execution_count": 2,
   "metadata": {},
   "outputs": [
    {
     "data": {
      "text/plain": [
       "[('R1', {'a', 'b', 'c'}, {20.0, 40.0, 50.0, 60.0, 750.0}),\n",
       " ('R2', {'x', 'y', 'z'}, {35.0, 37.5, 165.0}),\n",
       " ('R3', {'a', 'm', 'x'}, {2.5, 5.0, 7.5, 10.0, 12.5, 45.0})]"
      ]
     },
     "execution_count": 2,
     "metadata": {},
     "output_type": "execute_result"
    }
   ],
   "source": [
    "nested_list = [('R1',\n",
    "  {'a', 'b', 'c'},\n",
    "  {20.0,   40.0,   50.0,   60.0,   750.0}),\n",
    " ('R2',\n",
    "  {'x', 'y', 'z'},\n",
    "  {35.0,   37.5,   165.0}), \n",
    " ('R3',\n",
    "  {'x', 'a', 'm'},\n",
    "  {2.5,   5.0,   7.5,   10.0,   12.5,   45.0})]\n",
    "\n",
    "nested_list"
   ]
  },
  {
   "cell_type": "code",
   "execution_count": 5,
   "metadata": {},
   "outputs": [
    {
     "data": {
      "text/html": [
       "<div>\n",
       "<style scoped>\n",
       "    .dataframe tbody tr th:only-of-type {\n",
       "        vertical-align: middle;\n",
       "    }\n",
       "\n",
       "    .dataframe tbody tr th {\n",
       "        vertical-align: top;\n",
       "    }\n",
       "\n",
       "    .dataframe thead th {\n",
       "        text-align: right;\n",
       "    }\n",
       "</style>\n",
       "<table border=\"1\" class=\"dataframe\">\n",
       "  <thead>\n",
       "    <tr style=\"text-align: right;\">\n",
       "      <th></th>\n",
       "      <th>Cat</th>\n",
       "      <th>Column</th>\n",
       "      <th>Value</th>\n",
       "    </tr>\n",
       "  </thead>\n",
       "  <tbody>\n",
       "    <tr>\n",
       "      <th>0</th>\n",
       "      <td>R1</td>\n",
       "      <td>a</td>\n",
       "      <td>20.0</td>\n",
       "    </tr>\n",
       "    <tr>\n",
       "      <th>1</th>\n",
       "      <td>R1</td>\n",
       "      <td>a</td>\n",
       "      <td>40.0</td>\n",
       "    </tr>\n",
       "    <tr>\n",
       "      <th>2</th>\n",
       "      <td>R1</td>\n",
       "      <td>a</td>\n",
       "      <td>50.0</td>\n",
       "    </tr>\n",
       "    <tr>\n",
       "      <th>3</th>\n",
       "      <td>R1</td>\n",
       "      <td>a</td>\n",
       "      <td>60.0</td>\n",
       "    </tr>\n",
       "    <tr>\n",
       "      <th>4</th>\n",
       "      <td>R1</td>\n",
       "      <td>a</td>\n",
       "      <td>750.0</td>\n",
       "    </tr>\n",
       "  </tbody>\n",
       "</table>\n",
       "</div>"
      ],
      "text/plain": [
       "  Cat Column  Value\n",
       "0  R1      a   20.0\n",
       "1  R1      a   40.0\n",
       "2  R1      a   50.0\n",
       "3  R1      a   60.0\n",
       "4  R1      a  750.0"
      ]
     },
     "execution_count": 5,
     "metadata": {},
     "output_type": "execute_result"
    }
   ],
   "source": [
    "from  itertools import product\n",
    "\n",
    "L = [[[x[0]], sorted(x[1]), sorted(x[2])] for x in nested_list]\n",
    "pd.DataFrame([j for i in L for j in product(*i)], columns=['Cat','Column','Value']).head()"
   ]
  },
  {
   "cell_type": "markdown",
   "metadata": {},
   "source": [
    "## Converting lambda into list comprehension"
   ]
  },
  {
   "cell_type": "code",
   "execution_count": 6,
   "metadata": {},
   "outputs": [
    {
     "data": {
      "text/html": [
       "<div>\n",
       "<style scoped>\n",
       "    .dataframe tbody tr th:only-of-type {\n",
       "        vertical-align: middle;\n",
       "    }\n",
       "\n",
       "    .dataframe tbody tr th {\n",
       "        vertical-align: top;\n",
       "    }\n",
       "\n",
       "    .dataframe thead th {\n",
       "        text-align: right;\n",
       "    }\n",
       "</style>\n",
       "<table border=\"1\" class=\"dataframe\">\n",
       "  <thead>\n",
       "    <tr style=\"text-align: right;\">\n",
       "      <th></th>\n",
       "      <th>a</th>\n",
       "      <th>b</th>\n",
       "    </tr>\n",
       "  </thead>\n",
       "  <tbody>\n",
       "    <tr>\n",
       "      <th>0</th>\n",
       "      <td>1</td>\n",
       "      <td>0</td>\n",
       "    </tr>\n",
       "    <tr>\n",
       "      <th>1</th>\n",
       "      <td>1</td>\n",
       "      <td>1</td>\n",
       "    </tr>\n",
       "    <tr>\n",
       "      <th>2</th>\n",
       "      <td>1</td>\n",
       "      <td>2</td>\n",
       "    </tr>\n",
       "    <tr>\n",
       "      <th>3</th>\n",
       "      <td>1</td>\n",
       "      <td>3</td>\n",
       "    </tr>\n",
       "  </tbody>\n",
       "</table>\n",
       "</div>"
      ],
      "text/plain": [
       "   a  b\n",
       "0  1  0\n",
       "1  1  1\n",
       "2  1  2\n",
       "3  1  3"
      ]
     },
     "execution_count": 6,
     "metadata": {},
     "output_type": "execute_result"
    }
   ],
   "source": [
    "import pandas as pd\n",
    "df = pd.DataFrame({'a': 1, 'b': range(4)})\n",
    "df"
   ]
  },
  {
   "cell_type": "code",
   "execution_count": 12,
   "metadata": {},
   "outputs": [
    {
     "data": {
      "text/plain": [
       "[1, 2, 3, 4]"
      ]
     },
     "execution_count": 12,
     "metadata": {},
     "output_type": "execute_result"
    }
   ],
   "source": [
    "def sumthis(a, b):\n",
    "    return a+b\n",
    "\n",
    "list(map(lambda x, y: sumthis(x, y), [i for i in df.a], [j for j in df.b]))"
   ]
  },
  {
   "cell_type": "code",
   "execution_count": 13,
   "metadata": {},
   "outputs": [
    {
     "data": {
      "text/plain": [
       "[1, 2, 3, 4]"
      ]
     },
     "execution_count": 13,
     "metadata": {},
     "output_type": "execute_result"
    }
   ],
   "source": [
    "# In list cmprehension, zip is used:\n",
    "[sumthis(x, y) for x, y in zip(df.a, df.b)]"
   ]
  }
 ],
 "metadata": {
  "kernelspec": {
   "display_name": "Python 3",
   "language": "python",
   "name": "python3"
  },
  "language_info": {
   "codemirror_mode": {
    "name": "ipython",
    "version": 3
   },
   "file_extension": ".py",
   "mimetype": "text/x-python",
   "name": "python",
   "nbconvert_exporter": "python",
   "pygments_lexer": "ipython3",
   "version": "3.6.5"
  }
 },
 "nbformat": 4,
 "nbformat_minor": 2
}
